{
 "cells": [
  {
   "cell_type": "code",
   "execution_count": 7,
   "id": "bb5c4174",
   "metadata": {},
   "outputs": [],
   "source": [
    "from rdflib import Graph, Namespace, Literal, RDF,URIRef\n",
    "import pandas as pd\n",
    "from rdflib.namespace import DC, DCTERMS, DOAP, FOAF, SKOS, OWL, RDF, RDFS, VOID, XMLNS, XSD"
   ]
  },
  {
   "cell_type": "code",
   "execution_count": 8,
   "id": "ef02ccbd",
   "metadata": {},
   "outputs": [],
   "source": [
    "aiiso = Namespace('http://purl.org/vocab/aiiso/schema#')\n",
    "oloud = Namespace('http://lod.nik.uni-obuda.hu/oloud/oloud#')\n",
    "dbo = Namespace('http://dbpedia.org/ontology/')\n",
    "main = Namespace('http://www.semanticweb.org/abdul/ontologies/2023/University#')\n",
    "resource = Namespace('http://www.semanticweb.org/abdul/ontologies/2023/University/Resource/')"
   ]
  },
  {
   "cell_type": "code",
   "execution_count": 9,
   "id": "a6069330",
   "metadata": {},
   "outputs": [
    {
     "data": {
      "text/plain": [
       "<Graph identifier=Nc89b40ed08e74c338f9b2b5bc8f7d3d3 (<class 'rdflib.graph.Graph'>)>"
      ]
     },
     "execution_count": 9,
     "metadata": {},
     "output_type": "execute_result"
    }
   ],
   "source": [
    "g= Graph()\n",
    "g.parse(r\"D:\\Fast NU\\5th semester (pro) shit\\KRR\\Project\\Phase-III\\University Ontology - III.rdf\", format=\"xml\")"
   ]
  },
  {
   "cell_type": "code",
   "execution_count": 4,
   "id": "aab1ed7e",
   "metadata": {},
   "outputs": [],
   "source": [
    "# g.bind(\"foaf\", FOAF)\n",
    "# g.bind(\"xsd\", XSD)\n",
    "# g.bind(\"owl\", OWL)\n",
    "# g.bind(\"dbo\", dbo)\n",
    "# g.bind(\"oloud\", oloud)\n",
    "# g.bind(\"aiiso\", aiiso)\n",
    "# g.bind(\":\", main)\n",
    "# g.bind(\"resource\", resource)"
   ]
  },
  {
   "cell_type": "code",
   "execution_count": 3,
   "id": "0533f907",
   "metadata": {},
   "outputs": [
    {
     "data": {
      "text/html": [
       "<div>\n",
       "<style scoped>\n",
       "    .dataframe tbody tr th:only-of-type {\n",
       "        vertical-align: middle;\n",
       "    }\n",
       "\n",
       "    .dataframe tbody tr th {\n",
       "        vertical-align: top;\n",
       "    }\n",
       "\n",
       "    .dataframe thead th {\n",
       "        text-align: right;\n",
       "    }\n",
       "</style>\n",
       "<table border=\"1\" class=\"dataframe\">\n",
       "  <thead>\n",
       "    <tr style=\"text-align: right;\">\n",
       "      <th></th>\n",
       "      <th>Entity</th>\n",
       "      <th>Label</th>\n",
       "    </tr>\n",
       "  </thead>\n",
       "  <tbody>\n",
       "    <tr>\n",
       "      <th>0</th>\n",
       "      <td>fast</td>\n",
       "      <td>FAST</td>\n",
       "    </tr>\n",
       "    <tr>\n",
       "      <th>1</th>\n",
       "      <td>comsats</td>\n",
       "      <td>COMSATS</td>\n",
       "    </tr>\n",
       "    <tr>\n",
       "      <th>2</th>\n",
       "      <td>giki</td>\n",
       "      <td>GIKI</td>\n",
       "    </tr>\n",
       "  </tbody>\n",
       "</table>\n",
       "</div>"
      ],
      "text/plain": [
       "    Entity    Label\n",
       "0     fast     FAST\n",
       "1  comsats  COMSATS\n",
       "2     giki     GIKI"
      ]
     },
     "execution_count": 3,
     "metadata": {},
     "output_type": "execute_result"
    }
   ],
   "source": [
    "university=pd.read_excel(r\"D:\\Fast NU\\5th semester (pro) shit\\KRR\\Project\\Phase-III\\Data\\University.xlsx\")\n",
    "university"
   ]
  },
  {
   "cell_type": "code",
   "execution_count": 6,
   "id": "b722fca1",
   "metadata": {},
   "outputs": [],
   "source": [
    "for index, row in university.iterrows():\n",
    "    \n",
    "    ent = URIRef(resource + row['Entity'])\n",
    "    uni = URIRef('http://dbpedia.org/ontology/University')\n",
    "    \n",
    "    g.add((ent, RDF.type, uni))\n",
    "    g.add((ent, RDFS.label, Literal(row['Label'], datatype=XSD.string)))"
   ]
  },
  {
   "cell_type": "code",
   "execution_count": 7,
   "id": "d1c76945",
   "metadata": {},
   "outputs": [
    {
     "data": {
      "text/plain": [
       "<Graph identifier=N23acca84aea343ae9535a47bf8057bba (<class 'rdflib.graph.Graph'>)>"
      ]
     },
     "execution_count": 7,
     "metadata": {},
     "output_type": "execute_result"
    }
   ],
   "source": [
    "g.serialize(destination=r'D:\\Fast NU\\5th semester (pro) shit\\KRR\\Project\\Phase-III\\Output Ontologies\\v1.rdf', format=\"xml\")"
   ]
  },
  {
   "cell_type": "code",
   "execution_count": 8,
   "id": "68126c2b",
   "metadata": {},
   "outputs": [
    {
     "data": {
      "text/html": [
       "<div>\n",
       "<style scoped>\n",
       "    .dataframe tbody tr th:only-of-type {\n",
       "        vertical-align: middle;\n",
       "    }\n",
       "\n",
       "    .dataframe tbody tr th {\n",
       "        vertical-align: top;\n",
       "    }\n",
       "\n",
       "    .dataframe thead th {\n",
       "        text-align: right;\n",
       "    }\n",
       "</style>\n",
       "<table border=\"1\" class=\"dataframe\">\n",
       "  <thead>\n",
       "    <tr style=\"text-align: right;\">\n",
       "      <th></th>\n",
       "      <th>Entity</th>\n",
       "      <th>Name</th>\n",
       "      <th>Gender</th>\n",
       "      <th>Age</th>\n",
       "      <th>Class</th>\n",
       "    </tr>\n",
       "  </thead>\n",
       "  <tbody>\n",
       "    <tr>\n",
       "      <th>0</th>\n",
       "      <td>fahadshahzad</td>\n",
       "      <td>Fahad Shahzad</td>\n",
       "      <td>M</td>\n",
       "      <td>35</td>\n",
       "      <td>Academic_Officer</td>\n",
       "    </tr>\n",
       "    <tr>\n",
       "      <th>1</th>\n",
       "      <td>amirrehman</td>\n",
       "      <td>Amir Rehman</td>\n",
       "      <td>M</td>\n",
       "      <td>40</td>\n",
       "      <td>Academic_Officer</td>\n",
       "    </tr>\n",
       "    <tr>\n",
       "      <th>2</th>\n",
       "      <td>shahidqureshi</td>\n",
       "      <td>Shahid Qureshi</td>\n",
       "      <td>M</td>\n",
       "      <td>43</td>\n",
       "      <td>Acounts</td>\n",
       "    </tr>\n",
       "    <tr>\n",
       "      <th>3</th>\n",
       "      <td>shahzadsaleem</td>\n",
       "      <td>Shahzad Saleem</td>\n",
       "      <td>M</td>\n",
       "      <td>54</td>\n",
       "      <td>Acounts</td>\n",
       "    </tr>\n",
       "    <tr>\n",
       "      <th>4</th>\n",
       "      <td>rizwanjaved</td>\n",
       "      <td>Rizwan Javed</td>\n",
       "      <td>M</td>\n",
       "      <td>65</td>\n",
       "      <td>Acounts</td>\n",
       "    </tr>\n",
       "    <tr>\n",
       "      <th>5</th>\n",
       "      <td>haiderali</td>\n",
       "      <td>Haider Ali</td>\n",
       "      <td>M</td>\n",
       "      <td>34</td>\n",
       "      <td>Library_Staff</td>\n",
       "    </tr>\n",
       "    <tr>\n",
       "      <th>6</th>\n",
       "      <td>falakkhan</td>\n",
       "      <td>Falak Khan</td>\n",
       "      <td>M</td>\n",
       "      <td>54</td>\n",
       "      <td>Maintanance</td>\n",
       "    </tr>\n",
       "    <tr>\n",
       "      <th>7</th>\n",
       "      <td>aftabbhatti</td>\n",
       "      <td>Aftab Bhatti</td>\n",
       "      <td>M</td>\n",
       "      <td>65</td>\n",
       "      <td>Maintanance</td>\n",
       "    </tr>\n",
       "    <tr>\n",
       "      <th>8</th>\n",
       "      <td>shireenkhan</td>\n",
       "      <td>Shireen Khan</td>\n",
       "      <td>M</td>\n",
       "      <td>43</td>\n",
       "      <td>Security_Officer</td>\n",
       "    </tr>\n",
       "    <tr>\n",
       "      <th>9</th>\n",
       "      <td>muhammadshiraz</td>\n",
       "      <td>Muhammad Shiraz</td>\n",
       "      <td>M</td>\n",
       "      <td>45</td>\n",
       "      <td>Security_Officer</td>\n",
       "    </tr>\n",
       "    <tr>\n",
       "      <th>10</th>\n",
       "      <td>shahzadaslam</td>\n",
       "      <td>Shahzad Aslam</td>\n",
       "      <td>M</td>\n",
       "      <td>43</td>\n",
       "      <td>Security_Officer</td>\n",
       "    </tr>\n",
       "  </tbody>\n",
       "</table>\n",
       "</div>"
      ],
      "text/plain": [
       "            Entity             Name Gender  Age             Class\n",
       "0     fahadshahzad    Fahad Shahzad      M   35  Academic_Officer\n",
       "1       amirrehman      Amir Rehman      M   40  Academic_Officer\n",
       "2    shahidqureshi   Shahid Qureshi      M   43           Acounts\n",
       "3    shahzadsaleem   Shahzad Saleem      M   54           Acounts\n",
       "4      rizwanjaved     Rizwan Javed      M   65           Acounts\n",
       "5        haiderali       Haider Ali      M   34     Library_Staff\n",
       "6        falakkhan       Falak Khan      M   54       Maintanance\n",
       "7      aftabbhatti     Aftab Bhatti      M   65       Maintanance\n",
       "8      shireenkhan     Shireen Khan      M   43  Security_Officer\n",
       "9   muhammadshiraz  Muhammad Shiraz      M   45  Security_Officer\n",
       "10    shahzadaslam    Shahzad Aslam      M   43  Security_Officer"
      ]
     },
     "execution_count": 8,
     "metadata": {},
     "output_type": "execute_result"
    }
   ],
   "source": [
    "staff=pd.read_excel(r\"D:\\Fast NU\\5th semester (pro) shit\\KRR\\Project\\Phase-III\\Data\\Staff.xlsx\")\n",
    "staff"
   ]
  },
  {
   "cell_type": "code",
   "execution_count": 9,
   "id": "cac58ce2",
   "metadata": {},
   "outputs": [],
   "source": [
    "for index, row in staff.iterrows():\n",
    "    \n",
    "    ent = URIRef(resource + row['Entity'])\n",
    "    cl = URIRef(f'http://www.semanticweb.org/abdul/ontologies/2023/University#{row[\"Class\"]}')\n",
    "    \n",
    "    g.add((ent, RDF.type, cl))\n",
    "    g.add((ent, FOAF.name, Literal(row['Name'], datatype=XSD.string)))\n",
    "    g.add((ent, FOAF.gender, Literal(row['Gender'], datatype=XSD.string)))\n",
    "    g.add((ent, FOAF.age, Literal(row['Age'], datatype=XSD.integer)))"
   ]
  },
  {
   "cell_type": "code",
   "execution_count": 10,
   "id": "ec0216d2",
   "metadata": {},
   "outputs": [
    {
     "data": {
      "text/plain": [
       "<Graph identifier=N23acca84aea343ae9535a47bf8057bba (<class 'rdflib.graph.Graph'>)>"
      ]
     },
     "execution_count": 10,
     "metadata": {},
     "output_type": "execute_result"
    }
   ],
   "source": [
    "g.serialize(destination=r'D:\\Fast NU\\5th semester (pro) shit\\KRR\\Project\\Phase-III\\Output Ontologies\\v2.rdf', format=\"xml\")"
   ]
  },
  {
   "cell_type": "code",
   "execution_count": 11,
   "id": "9dad37f7",
   "metadata": {},
   "outputs": [
    {
     "data": {
      "text/html": [
       "<div>\n",
       "<style scoped>\n",
       "    .dataframe tbody tr th:only-of-type {\n",
       "        vertical-align: middle;\n",
       "    }\n",
       "\n",
       "    .dataframe tbody tr th {\n",
       "        vertical-align: top;\n",
       "    }\n",
       "\n",
       "    .dataframe thead th {\n",
       "        text-align: right;\n",
       "    }\n",
       "</style>\n",
       "<table border=\"1\" class=\"dataframe\">\n",
       "  <thead>\n",
       "    <tr style=\"text-align: right;\">\n",
       "      <th></th>\n",
       "      <th>Entity</th>\n",
       "      <th>Label</th>\n",
       "      <th>Campus</th>\n",
       "    </tr>\n",
       "  </thead>\n",
       "  <tbody>\n",
       "    <tr>\n",
       "      <th>0</th>\n",
       "      <td>cs</td>\n",
       "      <td>Computer Science Department</td>\n",
       "      <td>fastisb</td>\n",
       "    </tr>\n",
       "    <tr>\n",
       "      <th>1</th>\n",
       "      <td>ai</td>\n",
       "      <td>Artificial Intelligence Department</td>\n",
       "      <td>fastisb</td>\n",
       "    </tr>\n",
       "    <tr>\n",
       "      <th>2</th>\n",
       "      <td>se</td>\n",
       "      <td>Software Engineering Department</td>\n",
       "      <td>fastisb</td>\n",
       "    </tr>\n",
       "    <tr>\n",
       "      <th>3</th>\n",
       "      <td>ds</td>\n",
       "      <td>Data Science Department</td>\n",
       "      <td>fastisb</td>\n",
       "    </tr>\n",
       "  </tbody>\n",
       "</table>\n",
       "</div>"
      ],
      "text/plain": [
       "  Entity                               Label   Campus\n",
       "0     cs        Computer Science Department   fastisb\n",
       "1     ai  Artificial Intelligence Department  fastisb\n",
       "2     se     Software Engineering Department  fastisb\n",
       "3     ds             Data Science Department  fastisb"
      ]
     },
     "execution_count": 11,
     "metadata": {},
     "output_type": "execute_result"
    }
   ],
   "source": [
    "dept=pd.read_excel(r\"D:\\Fast NU\\5th semester (pro) shit\\KRR\\Project\\Phase-III\\Data\\Departments.xlsx\")\n",
    "dept"
   ]
  },
  {
   "cell_type": "code",
   "execution_count": 12,
   "id": "119c0d81",
   "metadata": {},
   "outputs": [],
   "source": [
    "for index, row in dept.iterrows():\n",
    "    \n",
    "    ent = URIRef(resource + row['Entity'])\n",
    "    depart = URIRef('http://purl.org/vocab/aiiso/schema#Department')\n",
    "    \n",
    "    g.add((ent, RDF.type, depart))\n",
    "    g.add((ent, RDFS.label, Literal(row['Label'], datatype=XSD.string)))"
   ]
  },
  {
   "cell_type": "code",
   "execution_count": 13,
   "id": "2e1d6467",
   "metadata": {},
   "outputs": [
    {
     "data": {
      "text/plain": [
       "<Graph identifier=N23acca84aea343ae9535a47bf8057bba (<class 'rdflib.graph.Graph'>)>"
      ]
     },
     "execution_count": 13,
     "metadata": {},
     "output_type": "execute_result"
    }
   ],
   "source": [
    "g.serialize(destination=r'D:\\Fast NU\\5th semester (pro) shit\\KRR\\Project\\Phase-III\\Output Ontologies\\v3.rdf', format=\"xml\")"
   ]
  },
  {
   "cell_type": "code",
   "execution_count": 14,
   "id": "8a1c5b40",
   "metadata": {},
   "outputs": [
    {
     "data": {
      "text/html": [
       "<div>\n",
       "<style scoped>\n",
       "    .dataframe tbody tr th:only-of-type {\n",
       "        vertical-align: middle;\n",
       "    }\n",
       "\n",
       "    .dataframe tbody tr th {\n",
       "        vertical-align: top;\n",
       "    }\n",
       "\n",
       "    .dataframe thead th {\n",
       "        text-align: right;\n",
       "    }\n",
       "</style>\n",
       "<table border=\"1\" class=\"dataframe\">\n",
       "  <thead>\n",
       "    <tr style=\"text-align: right;\">\n",
       "      <th></th>\n",
       "      <th>Entity</th>\n",
       "      <th>Label</th>\n",
       "      <th>Located At</th>\n",
       "      <th>University</th>\n",
       "      <th>Director</th>\n",
       "    </tr>\n",
       "  </thead>\n",
       "  <tbody>\n",
       "    <tr>\n",
       "      <th>0</th>\n",
       "      <td>fastisb</td>\n",
       "      <td>Fast Islamabad</td>\n",
       "      <td>Islamabad</td>\n",
       "      <td>fast</td>\n",
       "      <td>amnakamran</td>\n",
       "    </tr>\n",
       "    <tr>\n",
       "      <th>1</th>\n",
       "      <td>comsatsisb</td>\n",
       "      <td>Comsats Islamabad</td>\n",
       "      <td>Islamabad</td>\n",
       "      <td>comsats</td>\n",
       "      <td>-</td>\n",
       "    </tr>\n",
       "    <tr>\n",
       "      <th>2</th>\n",
       "      <td>fastlhr</td>\n",
       "      <td>Fast Lahore</td>\n",
       "      <td>Lahore</td>\n",
       "      <td>fast</td>\n",
       "      <td>-</td>\n",
       "    </tr>\n",
       "  </tbody>\n",
       "</table>\n",
       "</div>"
      ],
      "text/plain": [
       "       Entity              Label Located At University    Director\n",
       "0     fastisb     Fast Islamabad  Islamabad       fast  amnakamran\n",
       "1  comsatsisb  Comsats Islamabad  Islamabad    comsats           -\n",
       "2     fastlhr        Fast Lahore     Lahore       fast           -"
      ]
     },
     "execution_count": 14,
     "metadata": {},
     "output_type": "execute_result"
    }
   ],
   "source": [
    "camp=pd.read_excel(r\"D:\\Fast NU\\5th semester (pro) shit\\KRR\\Project\\Phase-III\\Data\\Campus.xlsx\")\n",
    "camp"
   ]
  },
  {
   "cell_type": "code",
   "execution_count": 15,
   "id": "79273a0c",
   "metadata": {},
   "outputs": [],
   "source": [
    "for index, row in camp.iterrows():\n",
    "    \n",
    "    ent = URIRef(resource + row['Entity'])\n",
    "    campus = URIRef('http://www.semanticweb.org/abdul/ontologies/2023/University#Campus')\n",
    "    \n",
    "    g.add((ent, RDF.type, campus))\n",
    "    g.add((ent, RDFS.label, Literal(row['Label'], datatype=XSD.string)))\n",
    "    g.add((ent, URIRef(main + 'located_at'), Literal(row['Located At'], datatype=XSD.string)))\n",
    "    g.add((ent, URIRef(resource + 'campus'), URIRef(resource + row['University'])))"
   ]
  },
  {
   "cell_type": "code",
   "execution_count": 16,
   "id": "4d9aaa09",
   "metadata": {},
   "outputs": [
    {
     "data": {
      "text/plain": [
       "<Graph identifier=N23acca84aea343ae9535a47bf8057bba (<class 'rdflib.graph.Graph'>)>"
      ]
     },
     "execution_count": 16,
     "metadata": {},
     "output_type": "execute_result"
    }
   ],
   "source": [
    "g.serialize(destination=r'D:\\Fast NU\\5th semester (pro) shit\\KRR\\Project\\Phase-III\\Output Ontologies\\v4.rdf', format=\"xml\")"
   ]
  },
  {
   "cell_type": "code",
   "execution_count": 17,
   "id": "b8b58860",
   "metadata": {},
   "outputs": [
    {
     "data": {
      "text/html": [
       "<div>\n",
       "<style scoped>\n",
       "    .dataframe tbody tr th:only-of-type {\n",
       "        vertical-align: middle;\n",
       "    }\n",
       "\n",
       "    .dataframe tbody tr th {\n",
       "        vertical-align: top;\n",
       "    }\n",
       "\n",
       "    .dataframe thead th {\n",
       "        text-align: right;\n",
       "    }\n",
       "</style>\n",
       "<table border=\"1\" class=\"dataframe\">\n",
       "  <thead>\n",
       "    <tr style=\"text-align: right;\">\n",
       "      <th></th>\n",
       "      <th>Entity</th>\n",
       "      <th>Label</th>\n",
       "    </tr>\n",
       "  </thead>\n",
       "  <tbody>\n",
       "    <tr>\n",
       "      <th>0</th>\n",
       "      <td>qec</td>\n",
       "      <td>Quality Enhancement Cell (QEC)</td>\n",
       "    </tr>\n",
       "    <tr>\n",
       "      <th>1</th>\n",
       "      <td>icpc</td>\n",
       "      <td>ICPC Committee</td>\n",
       "    </tr>\n",
       "    <tr>\n",
       "      <th>2</th>\n",
       "      <td>research</td>\n",
       "      <td>Research Committee</td>\n",
       "    </tr>\n",
       "    <tr>\n",
       "      <th>3</th>\n",
       "      <td>industry</td>\n",
       "      <td>Industry Liaison Committee</td>\n",
       "    </tr>\n",
       "    <tr>\n",
       "      <th>4</th>\n",
       "      <td>hiring</td>\n",
       "      <td>Hiring Committee</td>\n",
       "    </tr>\n",
       "  </tbody>\n",
       "</table>\n",
       "</div>"
      ],
      "text/plain": [
       "     Entity                           Label\n",
       "0       qec  Quality Enhancement Cell (QEC)\n",
       "1      icpc                  ICPC Committee\n",
       "2  research              Research Committee\n",
       "3  industry      Industry Liaison Committee\n",
       "4    hiring                Hiring Committee"
      ]
     },
     "execution_count": 17,
     "metadata": {},
     "output_type": "execute_result"
    }
   ],
   "source": [
    "committee=pd.read_excel(r\"D:\\Fast NU\\5th semester (pro) shit\\KRR\\Project\\Phase-III\\Data\\Committee.xlsx\")\n",
    "committee"
   ]
  },
  {
   "cell_type": "code",
   "execution_count": 18,
   "id": "6a9c8893",
   "metadata": {},
   "outputs": [],
   "source": [
    "for index, row in committee.iterrows():\n",
    "    \n",
    "    ent = URIRef(resource + row['Entity'])\n",
    "    com = URIRef('http://www.semanticweb.org/abdul/ontologies/2023/University#Committee')\n",
    "    \n",
    "    g.add((ent, RDF.type, com))\n",
    "    g.add((ent, RDFS.label, Literal(row['Label'], datatype=XSD.string)))"
   ]
  },
  {
   "cell_type": "code",
   "execution_count": 19,
   "id": "82f8c2dc",
   "metadata": {},
   "outputs": [
    {
     "data": {
      "text/plain": [
       "<Graph identifier=N23acca84aea343ae9535a47bf8057bba (<class 'rdflib.graph.Graph'>)>"
      ]
     },
     "execution_count": 19,
     "metadata": {},
     "output_type": "execute_result"
    }
   ],
   "source": [
    "g.serialize(destination=r'D:\\Fast NU\\5th semester (pro) shit\\KRR\\Project\\Phase-III\\Output Ontologies\\v5.rdf', format=\"xml\")"
   ]
  },
  {
   "cell_type": "code",
   "execution_count": 20,
   "id": "0334ad9f",
   "metadata": {},
   "outputs": [
    {
     "data": {
      "text/html": [
       "<div>\n",
       "<style scoped>\n",
       "    .dataframe tbody tr th:only-of-type {\n",
       "        vertical-align: middle;\n",
       "    }\n",
       "\n",
       "    .dataframe tbody tr th {\n",
       "        vertical-align: top;\n",
       "    }\n",
       "\n",
       "    .dataframe thead th {\n",
       "        text-align: right;\n",
       "    }\n",
       "</style>\n",
       "<table border=\"1\" class=\"dataframe\">\n",
       "  <thead>\n",
       "    <tr style=\"text-align: right;\">\n",
       "      <th></th>\n",
       "      <th>Entity</th>\n",
       "      <th>Label</th>\n",
       "    </tr>\n",
       "  </thead>\n",
       "  <tbody>\n",
       "    <tr>\n",
       "      <th>0</th>\n",
       "      <td>krr</td>\n",
       "      <td>Knowledge Representation &amp; Reasoning</td>\n",
       "    </tr>\n",
       "    <tr>\n",
       "      <th>1</th>\n",
       "      <td>algo</td>\n",
       "      <td>Design and Analysis of Algorithms</td>\n",
       "    </tr>\n",
       "    <tr>\n",
       "      <th>2</th>\n",
       "      <td>os</td>\n",
       "      <td>Operating Systems</td>\n",
       "    </tr>\n",
       "    <tr>\n",
       "      <th>3</th>\n",
       "      <td>tbw</td>\n",
       "      <td>Technical &amp; Business Writing</td>\n",
       "    </tr>\n",
       "    <tr>\n",
       "      <th>4</th>\n",
       "      <td>db</td>\n",
       "      <td>Database Systems</td>\n",
       "    </tr>\n",
       "    <tr>\n",
       "      <th>5</th>\n",
       "      <td>ml</td>\n",
       "      <td>Machine Learning</td>\n",
       "    </tr>\n",
       "    <tr>\n",
       "      <th>6</th>\n",
       "      <td>coal</td>\n",
       "      <td>Computer Organization and Assembly Language</td>\n",
       "    </tr>\n",
       "    <tr>\n",
       "      <th>7</th>\n",
       "      <td>artificialintelligence</td>\n",
       "      <td>Artificial Intelligence\\t</td>\n",
       "    </tr>\n",
       "    <tr>\n",
       "      <th>8</th>\n",
       "      <td>fundamentalsse</td>\n",
       "      <td>Fundamentals of Software Engineering</td>\n",
       "    </tr>\n",
       "  </tbody>\n",
       "</table>\n",
       "</div>"
      ],
      "text/plain": [
       "                   Entity                                        Label\n",
       "0                     krr         Knowledge Representation & Reasoning\n",
       "1                    algo            Design and Analysis of Algorithms\n",
       "2                      os                            Operating Systems\n",
       "3                     tbw                 Technical & Business Writing\n",
       "4                      db                             Database Systems\n",
       "5                      ml                             Machine Learning\n",
       "6                    coal  Computer Organization and Assembly Language\n",
       "7  artificialintelligence                    Artificial Intelligence\\t\n",
       "8          fundamentalsse         Fundamentals of Software Engineering"
      ]
     },
     "execution_count": 20,
     "metadata": {},
     "output_type": "execute_result"
    }
   ],
   "source": [
    "course=pd.read_excel(r\"D:\\Fast NU\\5th semester (pro) shit\\KRR\\Project\\Phase-III\\Data\\Course.xlsx\")\n",
    "course"
   ]
  },
  {
   "cell_type": "code",
   "execution_count": 21,
   "id": "382e947f",
   "metadata": {},
   "outputs": [],
   "source": [
    "for index, row in course.iterrows():\n",
    "    \n",
    "    ent = URIRef(resource + row['Entity'])\n",
    "    cour = URIRef('http://purl.org/vocab/aiiso/schema#Course')\n",
    "    \n",
    "    g.add((ent, RDF.type, cour))\n",
    "    g.add((ent, RDFS.label, Literal(row['Label'], datatype=XSD.string)))"
   ]
  },
  {
   "cell_type": "code",
   "execution_count": 22,
   "id": "ef85090d",
   "metadata": {},
   "outputs": [
    {
     "data": {
      "text/plain": [
       "<Graph identifier=N23acca84aea343ae9535a47bf8057bba (<class 'rdflib.graph.Graph'>)>"
      ]
     },
     "execution_count": 22,
     "metadata": {},
     "output_type": "execute_result"
    }
   ],
   "source": [
    "g.serialize(destination=r'D:\\Fast NU\\5th semester (pro) shit\\KRR\\Project\\Phase-III\\Output Ontologies\\v6.rdf', format=\"xml\")"
   ]
  },
  {
   "cell_type": "code",
   "execution_count": 23,
   "id": "4934a4da",
   "metadata": {},
   "outputs": [
    {
     "data": {
      "text/html": [
       "<div>\n",
       "<style scoped>\n",
       "    .dataframe tbody tr th:only-of-type {\n",
       "        vertical-align: middle;\n",
       "    }\n",
       "\n",
       "    .dataframe tbody tr th {\n",
       "        vertical-align: top;\n",
       "    }\n",
       "\n",
       "    .dataframe thead th {\n",
       "        text-align: right;\n",
       "    }\n",
       "</style>\n",
       "<table border=\"1\" class=\"dataframe\">\n",
       "  <thead>\n",
       "    <tr style=\"text-align: right;\">\n",
       "      <th></th>\n",
       "      <th>Entity</th>\n",
       "      <th>Label</th>\n",
       "      <th>Recognized By</th>\n",
       "      <th>Course 1</th>\n",
       "      <th>Course 2</th>\n",
       "      <th>Course 3</th>\n",
       "      <th>Course 4</th>\n",
       "      <th>Course 5</th>\n",
       "    </tr>\n",
       "  </thead>\n",
       "  <tbody>\n",
       "    <tr>\n",
       "      <th>0</th>\n",
       "      <td>bsai</td>\n",
       "      <td>BACHELOR OF SCIENCE (ARTIFICIAL INTELLIGENCE)</td>\n",
       "      <td>NAEAC</td>\n",
       "      <td>krr</td>\n",
       "      <td>algo</td>\n",
       "      <td>os</td>\n",
       "      <td>tbw</td>\n",
       "      <td>db</td>\n",
       "    </tr>\n",
       "    <tr>\n",
       "      <th>1</th>\n",
       "      <td>bsds</td>\n",
       "      <td>BACHELOR OF SCIENCE (DATA SCIENCE)</td>\n",
       "      <td>NAEAC</td>\n",
       "      <td>krr</td>\n",
       "      <td>algo</td>\n",
       "      <td>os</td>\n",
       "      <td>tbw</td>\n",
       "      <td>db</td>\n",
       "    </tr>\n",
       "    <tr>\n",
       "      <th>2</th>\n",
       "      <td>bscys</td>\n",
       "      <td>BACHELOR OF SCIENCE (CYBER SECURITY)</td>\n",
       "      <td>NAEAC</td>\n",
       "      <td>krr</td>\n",
       "      <td>algo</td>\n",
       "      <td>os</td>\n",
       "      <td>tbw</td>\n",
       "      <td>db</td>\n",
       "    </tr>\n",
       "    <tr>\n",
       "      <th>3</th>\n",
       "      <td>phdcs</td>\n",
       "      <td>DOCTOR OF PHILOSOPHY (COMPUTER SCIENCE</td>\n",
       "      <td>NAEAC</td>\n",
       "      <td>-</td>\n",
       "      <td>-</td>\n",
       "      <td>-</td>\n",
       "      <td>-</td>\n",
       "      <td>-</td>\n",
       "    </tr>\n",
       "  </tbody>\n",
       "</table>\n",
       "</div>"
      ],
      "text/plain": [
       "  Entity                                          Label Recognized By  \\\n",
       "0   bsai  BACHELOR OF SCIENCE (ARTIFICIAL INTELLIGENCE)         NAEAC   \n",
       "1   bsds             BACHELOR OF SCIENCE (DATA SCIENCE)         NAEAC   \n",
       "2  bscys           BACHELOR OF SCIENCE (CYBER SECURITY)         NAEAC   \n",
       "3  phdcs         DOCTOR OF PHILOSOPHY (COMPUTER SCIENCE         NAEAC   \n",
       "\n",
       "  Course 1 Course 2 Course 3 Course 4 Course 5  \n",
       "0      krr     algo       os      tbw       db  \n",
       "1      krr     algo       os      tbw       db  \n",
       "2      krr     algo       os      tbw       db  \n",
       "3        -        -        -        -        -  "
      ]
     },
     "execution_count": 23,
     "metadata": {},
     "output_type": "execute_result"
    }
   ],
   "source": [
    "degree=pd.read_excel(r\"D:\\Fast NU\\5th semester (pro) shit\\KRR\\Project\\Phase-III\\Data\\Degree.xlsx\")\n",
    "degree"
   ]
  },
  {
   "cell_type": "code",
   "execution_count": 24,
   "id": "4c883171",
   "metadata": {},
   "outputs": [],
   "source": [
    "for index, row in degree.iterrows():\n",
    "        \n",
    "    ent = URIRef(resource + row['Entity'])\n",
    "    dg = URIRef('http://lod.nik.uni-obuda.hu/oloud/oloud#Degree')\n",
    "    \n",
    "    g.add((ent, RDF.type, dg))\n",
    "    g.add((ent, RDFS.label, Literal(row['Label'], datatype=XSD.string)))\n",
    "    g.add((ent, URIRef(main + 'recognized_by'), URIRef(main + 'NAEAC')))\n",
    "    \n",
    "    if row['Course 1'] != '-':\n",
    "        g.add((ent, URIRef(main + 'degree_course'), URIRef(main + row['Course 1'])))\n",
    "    if row['Course 2'] != '-':\n",
    "        g.add((ent, URIRef(main + 'degree_course'), URIRef(main + row['Course 2'])))\n",
    "    if row['Course 3'] != '-':\n",
    "        g.add((ent, URIRef(main + 'degree_course'), URIRef(main + row['Course 3'])))\n",
    "    if row['Course 4'] != '-':\n",
    "        g.add((ent, URIRef(main + 'degree_course'), URIRef(main + row['Course 4'])))\n",
    "    if row['Course 5'] != '-':\n",
    "        g.add((ent, URIRef(main + 'degree_course'), URIRef(main + row['Course 5'])))"
   ]
  },
  {
   "cell_type": "code",
   "execution_count": 25,
   "id": "48141dc9",
   "metadata": {},
   "outputs": [
    {
     "data": {
      "text/plain": [
       "<Graph identifier=N23acca84aea343ae9535a47bf8057bba (<class 'rdflib.graph.Graph'>)>"
      ]
     },
     "execution_count": 25,
     "metadata": {},
     "output_type": "execute_result"
    }
   ],
   "source": [
    "g.serialize(destination=r'D:\\Fast NU\\5th semester (pro) shit\\KRR\\Project\\Phase-III\\Output Ontologies\\v7.rdf', format=\"xml\")"
   ]
  },
  {
   "cell_type": "code",
   "execution_count": 26,
   "id": "a3c44f5f",
   "metadata": {},
   "outputs": [
    {
     "data": {
      "text/html": [
       "<div>\n",
       "<style scoped>\n",
       "    .dataframe tbody tr th:only-of-type {\n",
       "        vertical-align: middle;\n",
       "    }\n",
       "\n",
       "    .dataframe tbody tr th {\n",
       "        vertical-align: top;\n",
       "    }\n",
       "\n",
       "    .dataframe thead th {\n",
       "        text-align: right;\n",
       "    }\n",
       "</style>\n",
       "<table border=\"1\" class=\"dataframe\">\n",
       "  <thead>\n",
       "    <tr style=\"text-align: right;\">\n",
       "      <th></th>\n",
       "      <th>Entity</th>\n",
       "      <th>Name</th>\n",
       "      <th>Age</th>\n",
       "      <th>Gender</th>\n",
       "      <th>Type</th>\n",
       "      <th>Department</th>\n",
       "      <th>Qualification</th>\n",
       "    </tr>\n",
       "  </thead>\n",
       "  <tbody>\n",
       "    <tr>\n",
       "      <th>0</th>\n",
       "      <td>umairarshad</td>\n",
       "      <td>Umair Arshad</td>\n",
       "      <td>35</td>\n",
       "      <td>M</td>\n",
       "      <td>Lecturer</td>\n",
       "      <td>cs</td>\n",
       "      <td>bsai</td>\n",
       "    </tr>\n",
       "    <tr>\n",
       "      <th>1</th>\n",
       "      <td>hassanmujtaba</td>\n",
       "      <td>Hassan Mujtaba</td>\n",
       "      <td>45</td>\n",
       "      <td>M</td>\n",
       "      <td>Head_of_Department</td>\n",
       "      <td>ai</td>\n",
       "      <td>bsds</td>\n",
       "    </tr>\n",
       "    <tr>\n",
       "      <th>2</th>\n",
       "      <td>naveedahmed</td>\n",
       "      <td>Naveed Ahmed</td>\n",
       "      <td>46</td>\n",
       "      <td>M</td>\n",
       "      <td>Head_of_Department</td>\n",
       "      <td>se</td>\n",
       "      <td>bscys</td>\n",
       "    </tr>\n",
       "    <tr>\n",
       "      <th>3</th>\n",
       "      <td>maheenarshad</td>\n",
       "      <td>Maheen Arshad</td>\n",
       "      <td>39</td>\n",
       "      <td>F</td>\n",
       "      <td>Assistant_Professor</td>\n",
       "      <td>ds</td>\n",
       "      <td>phdcs</td>\n",
       "    </tr>\n",
       "    <tr>\n",
       "      <th>4</th>\n",
       "      <td>ayeshakamran</td>\n",
       "      <td>Ayesha Kamran</td>\n",
       "      <td>34</td>\n",
       "      <td>F</td>\n",
       "      <td>Assistant_Professor</td>\n",
       "      <td>cs</td>\n",
       "      <td>bsai</td>\n",
       "    </tr>\n",
       "    <tr>\n",
       "      <th>5</th>\n",
       "      <td>ismahassan</td>\n",
       "      <td>Isma Hassan</td>\n",
       "      <td>37</td>\n",
       "      <td>F</td>\n",
       "      <td>Associate_Professor</td>\n",
       "      <td>ai</td>\n",
       "      <td>bsds</td>\n",
       "    </tr>\n",
       "    <tr>\n",
       "      <th>6</th>\n",
       "      <td>irfanullah</td>\n",
       "      <td>Irfan Ullah</td>\n",
       "      <td>56</td>\n",
       "      <td>M</td>\n",
       "      <td>Instructor</td>\n",
       "      <td>se</td>\n",
       "      <td>bscys</td>\n",
       "    </tr>\n",
       "    <tr>\n",
       "      <th>7</th>\n",
       "      <td>amnakamran</td>\n",
       "      <td>Amna Kamran</td>\n",
       "      <td>32</td>\n",
       "      <td>F</td>\n",
       "      <td>Director</td>\n",
       "      <td>ds</td>\n",
       "      <td>phdcs</td>\n",
       "    </tr>\n",
       "    <tr>\n",
       "      <th>8</th>\n",
       "      <td>asifnaeem</td>\n",
       "      <td>Asif Naeem</td>\n",
       "      <td>39</td>\n",
       "      <td>M</td>\n",
       "      <td>Assistant_Professor</td>\n",
       "      <td>cs</td>\n",
       "      <td>bsai</td>\n",
       "    </tr>\n",
       "    <tr>\n",
       "      <th>9</th>\n",
       "      <td>zainababaid</td>\n",
       "      <td>Zainab Abaid</td>\n",
       "      <td>37</td>\n",
       "      <td>F</td>\n",
       "      <td>Associate_Professor</td>\n",
       "      <td>ai</td>\n",
       "      <td>bsds</td>\n",
       "    </tr>\n",
       "    <tr>\n",
       "      <th>10</th>\n",
       "      <td>ahmeddin</td>\n",
       "      <td>Ahmed Din</td>\n",
       "      <td>46</td>\n",
       "      <td>M</td>\n",
       "      <td>Instructor</td>\n",
       "      <td>se</td>\n",
       "      <td>bscys</td>\n",
       "    </tr>\n",
       "    <tr>\n",
       "      <th>11</th>\n",
       "      <td>hassanraza</td>\n",
       "      <td>Hassan Raza</td>\n",
       "      <td>34</td>\n",
       "      <td>M</td>\n",
       "      <td>Instructor</td>\n",
       "      <td>ds</td>\n",
       "      <td>phdcs</td>\n",
       "    </tr>\n",
       "    <tr>\n",
       "      <th>12</th>\n",
       "      <td>akhtarjamil</td>\n",
       "      <td>Akhtar Jamil</td>\n",
       "      <td>46</td>\n",
       "      <td>M</td>\n",
       "      <td>Lecturer</td>\n",
       "      <td>cs</td>\n",
       "      <td>bsai</td>\n",
       "    </tr>\n",
       "    <tr>\n",
       "      <th>13</th>\n",
       "      <td>usmanhabib</td>\n",
       "      <td>Usman Habib</td>\n",
       "      <td>33</td>\n",
       "      <td>M</td>\n",
       "      <td>Lecturer</td>\n",
       "      <td>ai</td>\n",
       "      <td>bsds</td>\n",
       "    </tr>\n",
       "    <tr>\n",
       "      <th>14</th>\n",
       "      <td>sabakanwal</td>\n",
       "      <td>Saba Kanwal</td>\n",
       "      <td>54</td>\n",
       "      <td>F</td>\n",
       "      <td>Professor</td>\n",
       "      <td>se</td>\n",
       "      <td>bscys</td>\n",
       "    </tr>\n",
       "    <tr>\n",
       "      <th>15</th>\n",
       "      <td>uzairkhan</td>\n",
       "      <td>Uzair Khan</td>\n",
       "      <td>56</td>\n",
       "      <td>M</td>\n",
       "      <td>Professor</td>\n",
       "      <td>ds</td>\n",
       "      <td>phdcs</td>\n",
       "    </tr>\n",
       "    <tr>\n",
       "      <th>16</th>\n",
       "      <td>bushraamjad</td>\n",
       "      <td>Bushra Amjad</td>\n",
       "      <td>47</td>\n",
       "      <td>F</td>\n",
       "      <td>Associate_Professor</td>\n",
       "      <td>ds</td>\n",
       "      <td>phdcs</td>\n",
       "    </tr>\n",
       "  </tbody>\n",
       "</table>\n",
       "</div>"
      ],
      "text/plain": [
       "           Entity            Name  Age Gender                 Type Department  \\\n",
       "0     umairarshad    Umair Arshad   35      M             Lecturer         cs   \n",
       "1   hassanmujtaba  Hassan Mujtaba   45      M   Head_of_Department         ai   \n",
       "2     naveedahmed    Naveed Ahmed   46      M   Head_of_Department         se   \n",
       "3    maheenarshad   Maheen Arshad   39      F  Assistant_Professor         ds   \n",
       "4    ayeshakamran   Ayesha Kamran   34      F  Assistant_Professor         cs   \n",
       "5      ismahassan     Isma Hassan   37      F  Associate_Professor         ai   \n",
       "6      irfanullah     Irfan Ullah   56      M           Instructor         se   \n",
       "7      amnakamran     Amna Kamran   32      F             Director         ds   \n",
       "8       asifnaeem      Asif Naeem   39      M  Assistant_Professor         cs   \n",
       "9     zainababaid    Zainab Abaid   37      F  Associate_Professor         ai   \n",
       "10       ahmeddin       Ahmed Din   46      M           Instructor         se   \n",
       "11     hassanraza     Hassan Raza   34      M           Instructor         ds   \n",
       "12    akhtarjamil    Akhtar Jamil   46      M             Lecturer         cs   \n",
       "13     usmanhabib     Usman Habib   33      M             Lecturer         ai   \n",
       "14     sabakanwal     Saba Kanwal   54      F            Professor         se   \n",
       "15      uzairkhan      Uzair Khan   56      M            Professor         ds   \n",
       "16    bushraamjad    Bushra Amjad   47      F  Associate_Professor         ds   \n",
       "\n",
       "   Qualification  \n",
       "0           bsai  \n",
       "1           bsds  \n",
       "2          bscys  \n",
       "3          phdcs  \n",
       "4           bsai  \n",
       "5           bsds  \n",
       "6          bscys  \n",
       "7          phdcs  \n",
       "8           bsai  \n",
       "9           bsds  \n",
       "10         bscys  \n",
       "11         phdcs  \n",
       "12          bsai  \n",
       "13          bsds  \n",
       "14         bscys  \n",
       "15         phdcs  \n",
       "16         phdcs  "
      ]
     },
     "execution_count": 26,
     "metadata": {},
     "output_type": "execute_result"
    }
   ],
   "source": [
    "faculty=pd.read_excel(r\"D:\\Fast NU\\5th semester (pro) shit\\KRR\\Project\\Phase-III\\Data\\Faculty.xlsx\")\n",
    "faculty"
   ]
  },
  {
   "cell_type": "code",
   "execution_count": 27,
   "id": "118519a6",
   "metadata": {},
   "outputs": [],
   "source": [
    "for index, row in faculty.iterrows():\n",
    "    \n",
    "    ent = URIRef(resource + row['Entity'])\n",
    "    ty = URIRef(main + row['Type'])\n",
    "    \n",
    "    g.add((ent, RDF.type, ty))\n",
    "    g.add((ent, FOAF.name, Literal(row['Name'], datatype=XSD.string)))\n",
    "    g.add((ent, FOAF.age, Literal(row['Age'], datatype=XSD.integer)))\n",
    "    g.add((ent, FOAF.gender, Literal(row['Gender'], datatype=XSD.string)))\n",
    "    g.add((ent, URIRef(main + 'belongs_to_faculty'), URIRef(resource + row['Department'])))\n",
    "    g.add((ent, URIRef(main + 'qualification'), URIRef(resource + row['Qualification'])))\n",
    "    "
   ]
  },
  {
   "cell_type": "code",
   "execution_count": 28,
   "id": "fa148883",
   "metadata": {},
   "outputs": [
    {
     "data": {
      "text/plain": [
       "<Graph identifier=N23acca84aea343ae9535a47bf8057bba (<class 'rdflib.graph.Graph'>)>"
      ]
     },
     "execution_count": 28,
     "metadata": {},
     "output_type": "execute_result"
    }
   ],
   "source": [
    "g.serialize(destination=r'D:\\Fast NU\\5th semester (pro) shit\\KRR\\Project\\Phase-III\\Output Ontologies\\v8.rdf', format=\"xml\")"
   ]
  },
  {
   "cell_type": "code",
   "execution_count": 29,
   "id": "bb3aa4b3",
   "metadata": {},
   "outputs": [
    {
     "data": {
      "text/html": [
       "<div>\n",
       "<style scoped>\n",
       "    .dataframe tbody tr th:only-of-type {\n",
       "        vertical-align: middle;\n",
       "    }\n",
       "\n",
       "    .dataframe tbody tr th {\n",
       "        vertical-align: top;\n",
       "    }\n",
       "\n",
       "    .dataframe thead th {\n",
       "        text-align: right;\n",
       "    }\n",
       "</style>\n",
       "<table border=\"1\" class=\"dataframe\">\n",
       "  <thead>\n",
       "    <tr style=\"text-align: right;\">\n",
       "      <th></th>\n",
       "      <th>Entity</th>\n",
       "      <th>Label</th>\n",
       "      <th>Parent</th>\n",
       "    </tr>\n",
       "  </thead>\n",
       "  <tbody>\n",
       "    <tr>\n",
       "      <th>0</th>\n",
       "      <td>csa</td>\n",
       "      <td>CS-A</td>\n",
       "      <td>cs</td>\n",
       "    </tr>\n",
       "    <tr>\n",
       "      <th>1</th>\n",
       "      <td>csb</td>\n",
       "      <td>CS-B</td>\n",
       "      <td>cs</td>\n",
       "    </tr>\n",
       "    <tr>\n",
       "      <th>2</th>\n",
       "      <td>sea</td>\n",
       "      <td>SE-A</td>\n",
       "      <td>se</td>\n",
       "    </tr>\n",
       "    <tr>\n",
       "      <th>3</th>\n",
       "      <td>aia</td>\n",
       "      <td>AI-A</td>\n",
       "      <td>ai</td>\n",
       "    </tr>\n",
       "    <tr>\n",
       "      <th>4</th>\n",
       "      <td>aij</td>\n",
       "      <td>AI-J</td>\n",
       "      <td>ai</td>\n",
       "    </tr>\n",
       "  </tbody>\n",
       "</table>\n",
       "</div>"
      ],
      "text/plain": [
       "  Entity Label Parent\n",
       "0    csa  CS-A     cs\n",
       "1    csb  CS-B     cs\n",
       "2    sea  SE-A     se\n",
       "3    aia  AI-A     ai\n",
       "4    aij  AI-J     ai"
      ]
     },
     "execution_count": 29,
     "metadata": {},
     "output_type": "execute_result"
    }
   ],
   "source": [
    "section=pd.read_excel(r\"D:\\Fast NU\\5th semester (pro) shit\\KRR\\Project\\Phase-III\\Data\\Section.xlsx\")\n",
    "section"
   ]
  },
  {
   "cell_type": "code",
   "execution_count": 30,
   "id": "dc35a069",
   "metadata": {},
   "outputs": [],
   "source": [
    "for index, row in section.iterrows():\n",
    "    \n",
    "    ent = URIRef(resource + row['Entity'])\n",
    "    sc = URIRef('http://www.semanticweb.org/abdul/ontologies/2023/University#Section')\n",
    "    \n",
    "    g.add((ent, RDF.type, sc))\n",
    "    g.add((ent, RDFS.label, Literal(row['Label'], datatype=XSD.string)))\n",
    "    g.add((ent, URIRef(main + 'parent'), URIRef(resource + row['Parent'])))"
   ]
  },
  {
   "cell_type": "code",
   "execution_count": 31,
   "id": "51b9865e",
   "metadata": {},
   "outputs": [
    {
     "data": {
      "text/plain": [
       "<Graph identifier=N23acca84aea343ae9535a47bf8057bba (<class 'rdflib.graph.Graph'>)>"
      ]
     },
     "execution_count": 31,
     "metadata": {},
     "output_type": "execute_result"
    }
   ],
   "source": [
    "g.serialize(destination=r'D:\\Fast NU\\5th semester (pro) shit\\KRR\\Project\\Phase-III\\Output Ontologies\\v9.rdf', format=\"xml\")"
   ]
  },
  {
   "cell_type": "code",
   "execution_count": 32,
   "id": "a39e899e",
   "metadata": {},
   "outputs": [
    {
     "data": {
      "text/html": [
       "<div>\n",
       "<style scoped>\n",
       "    .dataframe tbody tr th:only-of-type {\n",
       "        vertical-align: middle;\n",
       "    }\n",
       "\n",
       "    .dataframe tbody tr th {\n",
       "        vertical-align: top;\n",
       "    }\n",
       "\n",
       "    .dataframe thead th {\n",
       "        text-align: right;\n",
       "    }\n",
       "</style>\n",
       "<table border=\"1\" class=\"dataframe\">\n",
       "  <thead>\n",
       "    <tr style=\"text-align: right;\">\n",
       "      <th></th>\n",
       "      <th>Entity</th>\n",
       "      <th>Name</th>\n",
       "      <th>Roll No</th>\n",
       "      <th>Gender</th>\n",
       "      <th>Age</th>\n",
       "      <th>Department</th>\n",
       "      <th>registered_in</th>\n",
       "    </tr>\n",
       "  </thead>\n",
       "  <tbody>\n",
       "    <tr>\n",
       "      <th>0</th>\n",
       "      <td>maaz_ali_nadeem</td>\n",
       "      <td>Maaz Ali Nadeem</td>\n",
       "      <td>i200452</td>\n",
       "      <td>M</td>\n",
       "      <td>22</td>\n",
       "      <td>cs</td>\n",
       "      <td>aij-krr-fa-23</td>\n",
       "    </tr>\n",
       "    <tr>\n",
       "      <th>1</th>\n",
       "      <td>khadija_irfan</td>\n",
       "      <td>Khadija Irfan</td>\n",
       "      <td>i200453</td>\n",
       "      <td>F</td>\n",
       "      <td>19</td>\n",
       "      <td>ai</td>\n",
       "      <td>aij-algo-fa-23</td>\n",
       "    </tr>\n",
       "    <tr>\n",
       "      <th>2</th>\n",
       "      <td>khaula_atiq</td>\n",
       "      <td>Khaula Atiq</td>\n",
       "      <td>i200454</td>\n",
       "      <td>F</td>\n",
       "      <td>21</td>\n",
       "      <td>se</td>\n",
       "      <td>-</td>\n",
       "    </tr>\n",
       "    <tr>\n",
       "      <th>3</th>\n",
       "      <td>muhammad_oun</td>\n",
       "      <td>Muhammad Oun</td>\n",
       "      <td>i212718</td>\n",
       "      <td>M</td>\n",
       "      <td>21</td>\n",
       "      <td>ds</td>\n",
       "      <td>-</td>\n",
       "    </tr>\n",
       "    <tr>\n",
       "      <th>4</th>\n",
       "      <td>hamza_ahmed</td>\n",
       "      <td>Hamza Ahmed</td>\n",
       "      <td>i210256</td>\n",
       "      <td>M</td>\n",
       "      <td>22</td>\n",
       "      <td>ds</td>\n",
       "      <td>-</td>\n",
       "    </tr>\n",
       "  </tbody>\n",
       "</table>\n",
       "</div>"
      ],
      "text/plain": [
       "            Entity             Name  Roll No Gender  Age Department  \\\n",
       "0  maaz_ali_nadeem  Maaz Ali Nadeem  i200452      M   22         cs   \n",
       "1    khadija_irfan    Khadija Irfan  i200453      F   19         ai   \n",
       "2      khaula_atiq      Khaula Atiq  i200454      F   21         se   \n",
       "3     muhammad_oun     Muhammad Oun  i212718      M   21         ds   \n",
       "4      hamza_ahmed      Hamza Ahmed  i210256      M   22         ds   \n",
       "\n",
       "    registered_in  \n",
       "0   aij-krr-fa-23  \n",
       "1  aij-algo-fa-23  \n",
       "2               -  \n",
       "3               -  \n",
       "4               -  "
      ]
     },
     "execution_count": 32,
     "metadata": {},
     "output_type": "execute_result"
    }
   ],
   "source": [
    "students=pd.read_excel(r\"D:\\Fast NU\\5th semester (pro) shit\\KRR\\Project\\Phase-III\\Data\\Student.xlsx\")\n",
    "students"
   ]
  },
  {
   "cell_type": "code",
   "execution_count": 33,
   "id": "d590be53",
   "metadata": {},
   "outputs": [],
   "source": [
    "for index, row in students.iterrows():\n",
    "    \n",
    "    ent = URIRef(resource + row['Entity'])\n",
    "    sc = URIRef('http://www.semanticweb.org/abdul/ontologies/2023/University#Student')\n",
    "    \n",
    "    g.add((ent, RDF.type, sc))\n",
    "    g.add((ent, FOAF.name, Literal(row['Name'], datatype=XSD.string)))\n",
    "    g.add((ent, URIRef(main + 'roll_number'), Literal(row['Roll No'], datatype=XSD.string)))\n",
    "    g.add((ent, FOAF.gender, Literal(row['Gender'], datatype=XSD.string)))\n",
    "    g.add((ent, FOAF.age, Literal(row['Age'], datatype=XSD.integer)))\n",
    "    g.add((ent, URIRef(main + 'belongs_to_student'), URIRef(resource + row['Department'])))\n",
    "    g.add((ent, URIRef(main + 'registered_in'), URIRef(resource + row['registered_in'])))\n"
   ]
  },
  {
   "cell_type": "code",
   "execution_count": 34,
   "id": "6d55d84a",
   "metadata": {},
   "outputs": [
    {
     "data": {
      "text/plain": [
       "<Graph identifier=N23acca84aea343ae9535a47bf8057bba (<class 'rdflib.graph.Graph'>)>"
      ]
     },
     "execution_count": 34,
     "metadata": {},
     "output_type": "execute_result"
    }
   ],
   "source": [
    "g.serialize(destination=r'D:\\Fast NU\\5th semester (pro) shit\\KRR\\Project\\Phase-III\\Output Ontologies\\v10.rdf', format=\"xml\")"
   ]
  },
  {
   "cell_type": "code",
   "execution_count": 35,
   "id": "527a9318",
   "metadata": {},
   "outputs": [],
   "source": [
    "for index, row in camp.iterrows():\n",
    "    if row['Director'] != '-':\n",
    "        g.add((URIRef(resource + row['Director']), URIRef(main + 'director'), URIRef(resource + row['Entity'])))"
   ]
  },
  {
   "cell_type": "code",
   "execution_count": 36,
   "id": "c3adfc91",
   "metadata": {},
   "outputs": [
    {
     "data": {
      "text/plain": [
       "<Graph identifier=N23acca84aea343ae9535a47bf8057bba (<class 'rdflib.graph.Graph'>)>"
      ]
     },
     "execution_count": 36,
     "metadata": {},
     "output_type": "execute_result"
    }
   ],
   "source": [
    "g.serialize(destination=r'D:\\Fast NU\\5th semester (pro) shit\\KRR\\Project\\Phase-III\\Output Ontologies\\v10.rdf', format=\"xml\")"
   ]
  },
  {
   "cell_type": "code",
   "execution_count": 37,
   "id": "89b09dd9",
   "metadata": {},
   "outputs": [
    {
     "data": {
      "text/html": [
       "<div>\n",
       "<style scoped>\n",
       "    .dataframe tbody tr th:only-of-type {\n",
       "        vertical-align: middle;\n",
       "    }\n",
       "\n",
       "    .dataframe tbody tr th {\n",
       "        vertical-align: top;\n",
       "    }\n",
       "\n",
       "    .dataframe thead th {\n",
       "        text-align: right;\n",
       "    }\n",
       "</style>\n",
       "<table border=\"1\" class=\"dataframe\">\n",
       "  <thead>\n",
       "    <tr style=\"text-align: right;\">\n",
       "      <th></th>\n",
       "      <th>Entity</th>\n",
       "      <th>Session</th>\n",
       "    </tr>\n",
       "  </thead>\n",
       "  <tbody>\n",
       "    <tr>\n",
       "      <th>0</th>\n",
       "      <td>spring2023</td>\n",
       "      <td>Spring 2023</td>\n",
       "    </tr>\n",
       "    <tr>\n",
       "      <th>1</th>\n",
       "      <td>fall2023</td>\n",
       "      <td>Fall 2023</td>\n",
       "    </tr>\n",
       "    <tr>\n",
       "      <th>2</th>\n",
       "      <td>fall2021</td>\n",
       "      <td>Fall 2021</td>\n",
       "    </tr>\n",
       "    <tr>\n",
       "      <th>3</th>\n",
       "      <td>spring2022</td>\n",
       "      <td>Spring 2022</td>\n",
       "    </tr>\n",
       "    <tr>\n",
       "      <th>4</th>\n",
       "      <td>fall2022</td>\n",
       "      <td>Fall 2022</td>\n",
       "    </tr>\n",
       "  </tbody>\n",
       "</table>\n",
       "</div>"
      ],
      "text/plain": [
       "       Entity      Session\n",
       "0  spring2023  Spring 2023\n",
       "1    fall2023    Fall 2023\n",
       "2    fall2021    Fall 2021\n",
       "3  spring2022  Spring 2022\n",
       "4    fall2022    Fall 2022"
      ]
     },
     "execution_count": 37,
     "metadata": {},
     "output_type": "execute_result"
    }
   ],
   "source": [
    "semester=pd.read_excel(r\"D:\\Fast NU\\5th semester (pro) shit\\KRR\\Project\\Phase-III\\Data\\Semester.xlsx\")\n",
    "semester"
   ]
  },
  {
   "cell_type": "code",
   "execution_count": 38,
   "id": "f31b40a7",
   "metadata": {},
   "outputs": [],
   "source": [
    "for index, row in semester.iterrows():\n",
    "    \n",
    "    ent = URIRef(resource + row['Entity'])\n",
    "    sc = URIRef('http://www.semanticweb.org/abdul/ontologies/2023/University#Semester')\n",
    "    g.add((ent, RDF.type, sc))\n",
    "    g.add((ent, URIRef(main + 'academic_session'), Literal(row['Session'], datatype=XSD.string)))\n"
   ]
  },
  {
   "cell_type": "code",
   "execution_count": 39,
   "id": "ed106dd5",
   "metadata": {},
   "outputs": [
    {
     "data": {
      "text/plain": [
       "<Graph identifier=N23acca84aea343ae9535a47bf8057bba (<class 'rdflib.graph.Graph'>)>"
      ]
     },
     "execution_count": 39,
     "metadata": {},
     "output_type": "execute_result"
    }
   ],
   "source": [
    "g.serialize(destination=r'D:\\Fast NU\\5th semester (pro) shit\\KRR\\Project\\Phase-III\\Output Ontologies\\v11.rdf', format=\"xml\")"
   ]
  },
  {
   "cell_type": "code",
   "execution_count": 40,
   "id": "1be94af3",
   "metadata": {},
   "outputs": [
    {
     "data": {
      "text/html": [
       "<div>\n",
       "<style scoped>\n",
       "    .dataframe tbody tr th:only-of-type {\n",
       "        vertical-align: middle;\n",
       "    }\n",
       "\n",
       "    .dataframe tbody tr th {\n",
       "        vertical-align: top;\n",
       "    }\n",
       "\n",
       "    .dataframe thead th {\n",
       "        text-align: right;\n",
       "    }\n",
       "</style>\n",
       "<table border=\"1\" class=\"dataframe\">\n",
       "  <thead>\n",
       "    <tr style=\"text-align: right;\">\n",
       "      <th></th>\n",
       "      <th>Entity</th>\n",
       "      <th>Committee</th>\n",
       "      <th>Semester</th>\n",
       "      <th>Head</th>\n",
       "      <th>Member 1</th>\n",
       "      <th>Member 2</th>\n",
       "      <th>Member 3</th>\n",
       "      <th>Member 4</th>\n",
       "      <th>Member 5</th>\n",
       "    </tr>\n",
       "  </thead>\n",
       "  <tbody>\n",
       "    <tr>\n",
       "      <th>0</th>\n",
       "      <td>qec_spring2023</td>\n",
       "      <td>qec</td>\n",
       "      <td>spring2023</td>\n",
       "      <td>umairarshad</td>\n",
       "      <td>hassanraza</td>\n",
       "      <td>usmanhabib</td>\n",
       "      <td>zainababaid</td>\n",
       "      <td>-</td>\n",
       "      <td>-</td>\n",
       "    </tr>\n",
       "    <tr>\n",
       "      <th>1</th>\n",
       "      <td>icpc_fall2023</td>\n",
       "      <td>icpc</td>\n",
       "      <td>fall2023</td>\n",
       "      <td>hassanmujtaba</td>\n",
       "      <td>maheenarshad</td>\n",
       "      <td>umairarshad</td>\n",
       "      <td>hassanraza</td>\n",
       "      <td>ahmeddin</td>\n",
       "      <td>-</td>\n",
       "    </tr>\n",
       "    <tr>\n",
       "      <th>2</th>\n",
       "      <td>research_fall2021</td>\n",
       "      <td>research</td>\n",
       "      <td>fall2021</td>\n",
       "      <td>ahmeddin</td>\n",
       "      <td>amnakamran</td>\n",
       "      <td>ayeshakamran</td>\n",
       "      <td>sabakanwal</td>\n",
       "      <td>hassanraza</td>\n",
       "      <td>bushraamjad</td>\n",
       "    </tr>\n",
       "    <tr>\n",
       "      <th>3</th>\n",
       "      <td>industry_spring2022</td>\n",
       "      <td>industry</td>\n",
       "      <td>spring2022</td>\n",
       "      <td>asifnaeem</td>\n",
       "      <td>irfanullah</td>\n",
       "      <td>ismahassan</td>\n",
       "      <td>uzairkhan</td>\n",
       "      <td>-</td>\n",
       "      <td>-</td>\n",
       "    </tr>\n",
       "    <tr>\n",
       "      <th>4</th>\n",
       "      <td>hiring_fall2023</td>\n",
       "      <td>hiring</td>\n",
       "      <td>fall2023</td>\n",
       "      <td>uzairkhan</td>\n",
       "      <td>ismahassan</td>\n",
       "      <td>irfanullah</td>\n",
       "      <td>-</td>\n",
       "      <td>-</td>\n",
       "      <td>-</td>\n",
       "    </tr>\n",
       "    <tr>\n",
       "      <th>5</th>\n",
       "      <td>qec_fall2023</td>\n",
       "      <td>qec</td>\n",
       "      <td>fall2023</td>\n",
       "      <td>naveedahmed</td>\n",
       "      <td>akhtarjamil</td>\n",
       "      <td>amnakamran</td>\n",
       "      <td>bushraamjad</td>\n",
       "      <td>-</td>\n",
       "      <td>-</td>\n",
       "    </tr>\n",
       "    <tr>\n",
       "      <th>6</th>\n",
       "      <td>industry_fall2022</td>\n",
       "      <td>industry</td>\n",
       "      <td>fall2022</td>\n",
       "      <td>ismahassan</td>\n",
       "      <td>uzairkhan</td>\n",
       "      <td>asifnaeem</td>\n",
       "      <td>-</td>\n",
       "      <td>-</td>\n",
       "      <td>-</td>\n",
       "    </tr>\n",
       "  </tbody>\n",
       "</table>\n",
       "</div>"
      ],
      "text/plain": [
       "                Entity Committee    Semester           Head      Member 1  \\\n",
       "0       qec_spring2023       qec  spring2023    umairarshad    hassanraza   \n",
       "1        icpc_fall2023      icpc    fall2023  hassanmujtaba  maheenarshad   \n",
       "2    research_fall2021  research    fall2021       ahmeddin    amnakamran   \n",
       "3  industry_spring2022  industry  spring2022      asifnaeem    irfanullah   \n",
       "4      hiring_fall2023    hiring    fall2023      uzairkhan    ismahassan   \n",
       "5         qec_fall2023       qec    fall2023    naveedahmed   akhtarjamil   \n",
       "6    industry_fall2022  industry    fall2022     ismahassan     uzairkhan   \n",
       "\n",
       "       Member 2     Member 3    Member 4     Member 5  \n",
       "0    usmanhabib  zainababaid           -            -  \n",
       "1   umairarshad   hassanraza    ahmeddin            -  \n",
       "2  ayeshakamran   sabakanwal  hassanraza  bushraamjad  \n",
       "3    ismahassan    uzairkhan           -            -  \n",
       "4    irfanullah            -           -            -  \n",
       "5    amnakamran  bushraamjad           -            -  \n",
       "6     asifnaeem            -           -            -  "
      ]
     },
     "execution_count": 40,
     "metadata": {},
     "output_type": "execute_result"
    }
   ],
   "source": [
    "ctenure=pd.read_excel(r\"D:\\Fast NU\\5th semester (pro) shit\\KRR\\Project\\Phase-III\\Data\\Committee Tenure.xlsx\")\n",
    "ctenure"
   ]
  },
  {
   "cell_type": "code",
   "execution_count": 41,
   "id": "4dad7697",
   "metadata": {},
   "outputs": [],
   "source": [
    "for index, row in ctenure.iterrows():\n",
    "    \n",
    "    ent = URIRef(resource + row['Entity'])\n",
    "    sc = URIRef('http://www.semanticweb.org/abdul/ontologies/2023/University#Committee_Tenure')\n",
    "    g.add((ent, RDF.type, sc))\n",
    "    g.add((ent, URIRef(main + 'committee'), URIRef(resource + row['Committee'])))\n",
    "    g.add((ent, URIRef(main + 'tenure_committee'), URIRef(resource + row['Semester'])))\n",
    "    g.add((ent, URIRef(main + 'head'), URIRef(resource + row['Head'])))\n",
    "    g.add((URIRef(resource + row['Head']), URIRef(main + 'is_head_of'), ent))\n",
    "    \n",
    "    if row['Member 1'] != '-':\n",
    "        g.add((ent, URIRef(main + 'member'), URIRef(resource + row['Member 1'])))\n",
    "        g.add((URIRef(resource + row['Member 1']), URIRef(main + 'is_member_of'), ent))\n",
    "    if row['Member 2'] != '-':\n",
    "        g.add((ent, URIRef(main + 'member'), URIRef(resource + row['Member 2'])))\n",
    "        g.add((URIRef(resource + row['Member 2']), URIRef(main + 'is_member_of'), ent))\n",
    "    if row['Member 3'] != '-':\n",
    "        g.add((ent, URIRef(main + 'member'), URIRef(resource + row['Member 3'])))\n",
    "        g.add((URIRef(resource + row['Member 3']), URIRef(main + 'is_member_of'), ent))\n",
    "    if row['Member 4'] != '-':\n",
    "        g.add((ent, URIRef(main + 'member'), URIRef(resource + row['Member 4'])))\n",
    "        g.add((URIRef(resource + row['Member 4']), URIRef(main + 'is_member_of'), ent))\n",
    "    if row['Member 5'] != '-':\n",
    "        g.add((ent, URIRef(main + 'member'), URIRef(resource + row['Member 5'])))\n",
    "        g.add((URIRef(resource + row['Member 5']), URIRef(main + 'is_member_of'), ent))\n"
   ]
  },
  {
   "cell_type": "code",
   "execution_count": 42,
   "id": "db012a23",
   "metadata": {},
   "outputs": [
    {
     "data": {
      "text/plain": [
       "<Graph identifier=N23acca84aea343ae9535a47bf8057bba (<class 'rdflib.graph.Graph'>)>"
      ]
     },
     "execution_count": 42,
     "metadata": {},
     "output_type": "execute_result"
    }
   ],
   "source": [
    "g.serialize(destination=r'D:\\Fast NU\\5th semester (pro) shit\\KRR\\Project\\Phase-III\\Output Ontologies\\v12.rdf', format=\"xml\")"
   ]
  },
  {
   "cell_type": "code",
   "execution_count": 43,
   "id": "99105892",
   "metadata": {},
   "outputs": [
    {
     "data": {
      "text/html": [
       "<div>\n",
       "<style scoped>\n",
       "    .dataframe tbody tr th:only-of-type {\n",
       "        vertical-align: middle;\n",
       "    }\n",
       "\n",
       "    .dataframe tbody tr th {\n",
       "        vertical-align: top;\n",
       "    }\n",
       "\n",
       "    .dataframe thead th {\n",
       "        text-align: right;\n",
       "    }\n",
       "</style>\n",
       "<table border=\"1\" class=\"dataframe\">\n",
       "  <thead>\n",
       "    <tr style=\"text-align: right;\">\n",
       "      <th></th>\n",
       "      <th>Entity</th>\n",
       "      <th>Section</th>\n",
       "      <th>Course</th>\n",
       "      <th>Semester</th>\n",
       "      <th>Faculty</th>\n",
       "    </tr>\n",
       "  </thead>\n",
       "  <tbody>\n",
       "    <tr>\n",
       "      <th>0</th>\n",
       "      <td>aij-krr-fa-23</td>\n",
       "      <td>aij</td>\n",
       "      <td>krr</td>\n",
       "      <td>fall2023</td>\n",
       "      <td>amnakamran</td>\n",
       "    </tr>\n",
       "    <tr>\n",
       "      <th>1</th>\n",
       "      <td>aij-algo-fa-23</td>\n",
       "      <td>aij</td>\n",
       "      <td>algo</td>\n",
       "      <td>fall2023</td>\n",
       "      <td>usmanhabib</td>\n",
       "    </tr>\n",
       "    <tr>\n",
       "      <th>2</th>\n",
       "      <td>aij-os-fa-23</td>\n",
       "      <td>aij</td>\n",
       "      <td>os</td>\n",
       "      <td>fall2023</td>\n",
       "      <td>ahmeddin</td>\n",
       "    </tr>\n",
       "    <tr>\n",
       "      <th>3</th>\n",
       "      <td>aij-tbw-fa-23</td>\n",
       "      <td>aij</td>\n",
       "      <td>tbw</td>\n",
       "      <td>fall2023</td>\n",
       "      <td>sabakanwal</td>\n",
       "    </tr>\n",
       "    <tr>\n",
       "      <th>4</th>\n",
       "      <td>aij-db-sp-23</td>\n",
       "      <td>aij</td>\n",
       "      <td>db</td>\n",
       "      <td>spring2023</td>\n",
       "      <td>usmanhabib</td>\n",
       "    </tr>\n",
       "    <tr>\n",
       "      <th>5</th>\n",
       "      <td>aij-ml-sp-23</td>\n",
       "      <td>aij</td>\n",
       "      <td>ml</td>\n",
       "      <td>spring2023</td>\n",
       "      <td>hassanraza</td>\n",
       "    </tr>\n",
       "    <tr>\n",
       "      <th>6</th>\n",
       "      <td>aij-coal-sp-23</td>\n",
       "      <td>aij</td>\n",
       "      <td>coal</td>\n",
       "      <td>spring2023</td>\n",
       "      <td>bushraamjad</td>\n",
       "    </tr>\n",
       "    <tr>\n",
       "      <th>7</th>\n",
       "      <td>aij-fdse-sp-23</td>\n",
       "      <td>aij</td>\n",
       "      <td>fundamentalsse</td>\n",
       "      <td>spring2023</td>\n",
       "      <td>zainababaid</td>\n",
       "    </tr>\n",
       "    <tr>\n",
       "      <th>8</th>\n",
       "      <td>aij-ai-sp-23</td>\n",
       "      <td>aij</td>\n",
       "      <td>artificialintelligence</td>\n",
       "      <td>spring2023</td>\n",
       "      <td>umairarshad</td>\n",
       "    </tr>\n",
       "    <tr>\n",
       "      <th>9</th>\n",
       "      <td>sea-fdse-sp-23</td>\n",
       "      <td>sea</td>\n",
       "      <td>fundamentalsse</td>\n",
       "      <td>spring2023</td>\n",
       "      <td>naveedahmed</td>\n",
       "    </tr>\n",
       "    <tr>\n",
       "      <th>10</th>\n",
       "      <td>aij-ml-fa-23</td>\n",
       "      <td>aij</td>\n",
       "      <td>ml</td>\n",
       "      <td>spring2023</td>\n",
       "      <td>hassanmujtaba</td>\n",
       "    </tr>\n",
       "  </tbody>\n",
       "</table>\n",
       "</div>"
      ],
      "text/plain": [
       "            Entity Section                  Course    Semester        Faculty\n",
       "0    aij-krr-fa-23     aij                     krr    fall2023     amnakamran\n",
       "1   aij-algo-fa-23     aij                    algo    fall2023     usmanhabib\n",
       "2     aij-os-fa-23     aij                      os    fall2023       ahmeddin\n",
       "3    aij-tbw-fa-23     aij                     tbw    fall2023     sabakanwal\n",
       "4     aij-db-sp-23     aij                      db  spring2023     usmanhabib\n",
       "5     aij-ml-sp-23     aij                      ml  spring2023     hassanraza\n",
       "6   aij-coal-sp-23     aij                    coal  spring2023    bushraamjad\n",
       "7   aij-fdse-sp-23     aij          fundamentalsse  spring2023    zainababaid\n",
       "8     aij-ai-sp-23     aij  artificialintelligence  spring2023    umairarshad\n",
       "9   sea-fdse-sp-23     sea          fundamentalsse  spring2023    naveedahmed\n",
       "10    aij-ml-fa-23     aij                      ml  spring2023  hassanmujtaba"
      ]
     },
     "execution_count": 43,
     "metadata": {},
     "output_type": "execute_result"
    }
   ],
   "source": [
    "seccocurse=pd.read_excel(r\"D:\\Fast NU\\5th semester (pro) shit\\KRR\\Project\\Phase-III\\Data\\Sec-Course.xlsx\")\n",
    "seccocurse"
   ]
  },
  {
   "cell_type": "code",
   "execution_count": 44,
   "id": "6d6b1a37",
   "metadata": {},
   "outputs": [],
   "source": [
    "for index, row in seccocurse.iterrows():\n",
    "    \n",
    "    ent = URIRef(resource + row['Entity'])\n",
    "    sc = URIRef('http://www.semanticweb.org/abdul/ontologies/2023/University#Sec_Course')\n",
    "    \n",
    "    g.add((ent, RDF.type, sc))\n",
    "    g.add((ent, URIRef(main + 'course'), URIRef(resource + row['Course'])))\n",
    "    g.add((ent, URIRef(main + 'offered_for'), URIRef(resource + row['Section'])))\n",
    "    g.add((ent, URIRef(aiiso['course_term']), URIRef(resource + row['Semester'])))\n",
    "    g.add((ent, URIRef(main['is_taught_by']), URIRef(resource + row['Faculty'])))\n",
    "    g.add((URIRef(resource + row['Faculty']), URIRef(aiiso['teaches']), ent))\n",
    "    \n",
    "    \n",
    "    "
   ]
  },
  {
   "cell_type": "code",
   "execution_count": 45,
   "id": "e5e135f3",
   "metadata": {},
   "outputs": [
    {
     "data": {
      "text/plain": [
       "<Graph identifier=N23acca84aea343ae9535a47bf8057bba (<class 'rdflib.graph.Graph'>)>"
      ]
     },
     "execution_count": 45,
     "metadata": {},
     "output_type": "execute_result"
    }
   ],
   "source": [
    "g.serialize(destination=r'D:\\Fast NU\\5th semester (pro) shit\\KRR\\Project\\Phase-III\\Output Ontologies\\v13.rdf', format=\"xml\")"
   ]
  },
  {
   "cell_type": "code",
   "execution_count": 46,
   "id": "7ee8a064",
   "metadata": {},
   "outputs": [
    {
     "data": {
      "text/html": [
       "<div>\n",
       "<style scoped>\n",
       "    .dataframe tbody tr th:only-of-type {\n",
       "        vertical-align: middle;\n",
       "    }\n",
       "\n",
       "    .dataframe tbody tr th {\n",
       "        vertical-align: top;\n",
       "    }\n",
       "\n",
       "    .dataframe thead th {\n",
       "        text-align: right;\n",
       "    }\n",
       "</style>\n",
       "<table border=\"1\" class=\"dataframe\">\n",
       "  <thead>\n",
       "    <tr style=\"text-align: right;\">\n",
       "      <th></th>\n",
       "      <th>Student</th>\n",
       "      <th>Sec_Course</th>\n",
       "    </tr>\n",
       "  </thead>\n",
       "  <tbody>\n",
       "    <tr>\n",
       "      <th>0</th>\n",
       "      <td>maaz_ali_nadeem</td>\n",
       "      <td>aij-krr-fa-23</td>\n",
       "    </tr>\n",
       "    <tr>\n",
       "      <th>1</th>\n",
       "      <td>khadija_irfan</td>\n",
       "      <td>aij-algo-fa-23</td>\n",
       "    </tr>\n",
       "    <tr>\n",
       "      <th>2</th>\n",
       "      <td>khaula_atiq</td>\n",
       "      <td>aij-os-fa-23</td>\n",
       "    </tr>\n",
       "    <tr>\n",
       "      <th>3</th>\n",
       "      <td>maaz_ali_nadeem</td>\n",
       "      <td>aij-tbw-fa-23</td>\n",
       "    </tr>\n",
       "    <tr>\n",
       "      <th>4</th>\n",
       "      <td>khadija_irfan</td>\n",
       "      <td>aij-db-sp-23</td>\n",
       "    </tr>\n",
       "  </tbody>\n",
       "</table>\n",
       "</div>"
      ],
      "text/plain": [
       "           Student      Sec_Course\n",
       "0  maaz_ali_nadeem   aij-krr-fa-23\n",
       "1    khadija_irfan  aij-algo-fa-23\n",
       "2      khaula_atiq    aij-os-fa-23\n",
       "3  maaz_ali_nadeem   aij-tbw-fa-23\n",
       "4    khadija_irfan    aij-db-sp-23"
      ]
     },
     "execution_count": 46,
     "metadata": {},
     "output_type": "execute_result"
    }
   ],
   "source": [
    "demon=pd.read_excel(r\"D:\\Fast NU\\5th semester (pro) shit\\KRR\\Project\\Phase-III\\Data\\Demonstrator.xlsx\")\n",
    "demon"
   ]
  },
  {
   "cell_type": "code",
   "execution_count": 47,
   "id": "073fe112",
   "metadata": {},
   "outputs": [],
   "source": [
    "for index, row in demon.iterrows():\n",
    "    \n",
    "    \n",
    "    g.add((URIRef(resource + row['Student']), URIRef(main + 'lab_demonstrator'), URIRef(resource + row['Sec_Course'])))\n",
    "    \n"
   ]
  },
  {
   "cell_type": "code",
   "execution_count": 48,
   "id": "f3450281",
   "metadata": {},
   "outputs": [
    {
     "data": {
      "text/plain": [
       "<Graph identifier=N23acca84aea343ae9535a47bf8057bba (<class 'rdflib.graph.Graph'>)>"
      ]
     },
     "execution_count": 48,
     "metadata": {},
     "output_type": "execute_result"
    }
   ],
   "source": [
    "g.serialize(destination=r'D:\\Fast NU\\5th semester (pro) shit\\KRR\\Project\\Phase-III\\Output Ontologies\\v14.rdf', format=\"xml\")"
   ]
  },
  {
   "cell_type": "code",
   "execution_count": 49,
   "id": "df7dec7b",
   "metadata": {},
   "outputs": [],
   "source": [
    "for index, row in dept.iterrows():\n",
    "    g.add((URIRef(resource + row['Entity']), URIRef(aiiso['part_of']), URIRef(resource + row['Campus'])))\n",
    "\n"
   ]
  },
  {
   "cell_type": "code",
   "execution_count": 50,
   "id": "fbd97644",
   "metadata": {},
   "outputs": [
    {
     "data": {
      "text/plain": [
       "<Graph identifier=N23acca84aea343ae9535a47bf8057bba (<class 'rdflib.graph.Graph'>)>"
      ]
     },
     "execution_count": 50,
     "metadata": {},
     "output_type": "execute_result"
    }
   ],
   "source": [
    "g.serialize(destination=r'D:\\Fast NU\\5th semester (pro) shit\\KRR\\Project\\Phase-III\\Output Ontologies\\v15.rdf', format=\"xml\")"
   ]
  },
  {
   "cell_type": "code",
   "execution_count": 51,
   "id": "ec2f5ab1",
   "metadata": {},
   "outputs": [
    {
     "data": {
      "text/html": [
       "<div>\n",
       "<style scoped>\n",
       "    .dataframe tbody tr th:only-of-type {\n",
       "        vertical-align: middle;\n",
       "    }\n",
       "\n",
       "    .dataframe tbody tr th {\n",
       "        vertical-align: top;\n",
       "    }\n",
       "\n",
       "    .dataframe thead th {\n",
       "        text-align: right;\n",
       "    }\n",
       "</style>\n",
       "<table border=\"1\" class=\"dataframe\">\n",
       "  <thead>\n",
       "    <tr style=\"text-align: right;\">\n",
       "      <th></th>\n",
       "      <th>Student</th>\n",
       "      <th>Semester</th>\n",
       "    </tr>\n",
       "  </thead>\n",
       "  <tbody>\n",
       "    <tr>\n",
       "      <th>0</th>\n",
       "      <td>zarmeen_tauseef</td>\n",
       "      <td>spring2023</td>\n",
       "    </tr>\n",
       "    <tr>\n",
       "      <th>1</th>\n",
       "      <td>sabah_nawab</td>\n",
       "      <td>fall2023</td>\n",
       "    </tr>\n",
       "    <tr>\n",
       "      <th>2</th>\n",
       "      <td>maheen_shoukat</td>\n",
       "      <td>fall2021</td>\n",
       "    </tr>\n",
       "    <tr>\n",
       "      <th>3</th>\n",
       "      <td>talha_nadeem</td>\n",
       "      <td>spring2022</td>\n",
       "    </tr>\n",
       "  </tbody>\n",
       "</table>\n",
       "</div>"
      ],
      "text/plain": [
       "           Student    Semester\n",
       "0  zarmeen_tauseef  spring2023\n",
       "1      sabah_nawab    fall2023\n",
       "2   maheen_shoukat    fall2021\n",
       "3     talha_nadeem  spring2022"
      ]
     },
     "execution_count": 51,
     "metadata": {},
     "output_type": "execute_result"
    }
   ],
   "source": [
    "medalist=pd.read_excel(r\"D:\\Fast NU\\5th semester (pro) shit\\KRR\\Project\\Phase-III\\Data\\Medalist.xlsx\")\n",
    "medalist"
   ]
  },
  {
   "cell_type": "code",
   "execution_count": 52,
   "id": "23ff456e",
   "metadata": {},
   "outputs": [],
   "source": [
    "for index, row in medalist.iterrows():\n",
    "    \n",
    "    g.add((URIRef(resource + row['Student']), URIRef(main['medalist']), URIRef(resource + row['Semester'])))\n",
    "\n",
    "    \n",
    "    \n",
    "    "
   ]
  },
  {
   "cell_type": "code",
   "execution_count": 53,
   "id": "fb66fe9a",
   "metadata": {},
   "outputs": [
    {
     "data": {
      "text/plain": [
       "<Graph identifier=N23acca84aea343ae9535a47bf8057bba (<class 'rdflib.graph.Graph'>)>"
      ]
     },
     "execution_count": 53,
     "metadata": {},
     "output_type": "execute_result"
    }
   ],
   "source": [
    "g.serialize(destination=r'D:\\Fast NU\\5th semester (pro) shit\\KRR\\Project\\Phase-III\\Output Ontologies\\v16.rdf', format=\"xml\")"
   ]
  },
  {
   "cell_type": "code",
   "execution_count": 54,
   "id": "e8e3338b",
   "metadata": {},
   "outputs": [
    {
     "data": {
      "text/html": [
       "<div>\n",
       "<style scoped>\n",
       "    .dataframe tbody tr th:only-of-type {\n",
       "        vertical-align: middle;\n",
       "    }\n",
       "\n",
       "    .dataframe tbody tr th {\n",
       "        vertical-align: top;\n",
       "    }\n",
       "\n",
       "    .dataframe thead th {\n",
       "        text-align: right;\n",
       "    }\n",
       "</style>\n",
       "<table border=\"1\" class=\"dataframe\">\n",
       "  <thead>\n",
       "    <tr style=\"text-align: right;\">\n",
       "      <th></th>\n",
       "      <th>Student</th>\n",
       "      <th>Sec_Course</th>\n",
       "    </tr>\n",
       "  </thead>\n",
       "  <tbody>\n",
       "    <tr>\n",
       "      <th>0</th>\n",
       "      <td>muhammad_oun</td>\n",
       "      <td>aij-coal-sp-23</td>\n",
       "    </tr>\n",
       "    <tr>\n",
       "      <th>1</th>\n",
       "      <td>hamza_ahmed</td>\n",
       "      <td>aij-fdse-sp-23</td>\n",
       "    </tr>\n",
       "    <tr>\n",
       "      <th>2</th>\n",
       "      <td>maaz_ali_nadeem</td>\n",
       "      <td>aij-ai-sp-23</td>\n",
       "    </tr>\n",
       "    <tr>\n",
       "      <th>3</th>\n",
       "      <td>khadija_irfan</td>\n",
       "      <td>sea-fdse-sp-23</td>\n",
       "    </tr>\n",
       "  </tbody>\n",
       "</table>\n",
       "</div>"
      ],
      "text/plain": [
       "           Student      Sec_Course\n",
       "0     muhammad_oun  aij-coal-sp-23\n",
       "1      hamza_ahmed  aij-fdse-sp-23\n",
       "2  maaz_ali_nadeem    aij-ai-sp-23\n",
       "3    khadija_irfan  sea-fdse-sp-23"
      ]
     },
     "execution_count": 54,
     "metadata": {},
     "output_type": "execute_result"
    }
   ],
   "source": [
    "ta=pd.read_excel(r\"D:\\Fast NU\\5th semester (pro) shit\\KRR\\Project\\Phase-III\\Data\\Teacher Assistant.xlsx\")\n",
    "ta"
   ]
  },
  {
   "cell_type": "code",
   "execution_count": 55,
   "id": "97fa369f",
   "metadata": {},
   "outputs": [],
   "source": [
    "for index, row in ta.iterrows():\n",
    "    \n",
    "    g.add((URIRef(resource + row['Student']), URIRef(main['teacher_assistant']), URIRef(resource + row['Sec_Course'])))\n"
   ]
  },
  {
   "cell_type": "code",
   "execution_count": 56,
   "id": "e46f2c31",
   "metadata": {},
   "outputs": [
    {
     "data": {
      "text/plain": [
       "<Graph identifier=N23acca84aea343ae9535a47bf8057bba (<class 'rdflib.graph.Graph'>)>"
      ]
     },
     "execution_count": 56,
     "metadata": {},
     "output_type": "execute_result"
    }
   ],
   "source": [
    "g.serialize(destination=r'D:\\Fast NU\\5th semester (pro) shit\\KRR\\Project\\Phase-III\\Output Ontologies\\v17.rdf', format=\"xml\")"
   ]
  },
  {
   "cell_type": "code",
   "execution_count": 57,
   "id": "19d11d11",
   "metadata": {},
   "outputs": [
    {
     "data": {
      "text/html": [
       "<div>\n",
       "<style scoped>\n",
       "    .dataframe tbody tr th:only-of-type {\n",
       "        vertical-align: middle;\n",
       "    }\n",
       "\n",
       "    .dataframe tbody tr th {\n",
       "        vertical-align: top;\n",
       "    }\n",
       "\n",
       "    .dataframe thead th {\n",
       "        text-align: right;\n",
       "    }\n",
       "</style>\n",
       "<table border=\"1\" class=\"dataframe\">\n",
       "  <thead>\n",
       "    <tr style=\"text-align: right;\">\n",
       "      <th></th>\n",
       "      <th>Entity</th>\n",
       "      <th>Label</th>\n",
       "    </tr>\n",
       "  </thead>\n",
       "  <tbody>\n",
       "    <tr>\n",
       "      <th>0</th>\n",
       "      <td>fas</td>\n",
       "      <td>Fast Adventure Society</td>\n",
       "    </tr>\n",
       "    <tr>\n",
       "      <th>1</th>\n",
       "      <td>fcss</td>\n",
       "      <td>Fast Community Service Society</td>\n",
       "    </tr>\n",
       "    <tr>\n",
       "      <th>2</th>\n",
       "      <td>fais</td>\n",
       "      <td>Fast Artificial Intelligence Society</td>\n",
       "    </tr>\n",
       "  </tbody>\n",
       "</table>\n",
       "</div>"
      ],
      "text/plain": [
       "  Entity                                 Label\n",
       "0    fas                Fast Adventure Society\n",
       "1   fcss        Fast Community Service Society\n",
       "2   fais  Fast Artificial Intelligence Society"
      ]
     },
     "execution_count": 57,
     "metadata": {},
     "output_type": "execute_result"
    }
   ],
   "source": [
    "soc=pd.read_excel(r\"D:\\Fast NU\\5th semester (pro) shit\\KRR\\Project\\Phase-III\\Data\\Society.xlsx\")\n",
    "soc"
   ]
  },
  {
   "cell_type": "code",
   "execution_count": 58,
   "id": "6bc62a4c",
   "metadata": {},
   "outputs": [],
   "source": [
    "for index, row in soc.iterrows():\n",
    "    \n",
    "    ent = URIRef(resource + row['Entity'])\n",
    "    sc = URIRef('http://www.semanticweb.org/abdul/ontologies/2023/University#Society')\n",
    "    \n",
    "    g.add((ent, RDF.type, sc))\n",
    "    g.add((ent, RDFS.label, Literal(row['Label'], datatype=XSD.string)))\n",
    "    "
   ]
  },
  {
   "cell_type": "code",
   "execution_count": 59,
   "id": "52ae4a9b",
   "metadata": {},
   "outputs": [
    {
     "data": {
      "text/plain": [
       "<Graph identifier=N23acca84aea343ae9535a47bf8057bba (<class 'rdflib.graph.Graph'>)>"
      ]
     },
     "execution_count": 59,
     "metadata": {},
     "output_type": "execute_result"
    }
   ],
   "source": [
    "g.serialize(destination=r'D:\\Fast NU\\5th semester (pro) shit\\KRR\\Project\\Phase-III\\Output Ontologies\\v18.rdf', format=\"xml\")"
   ]
  },
  {
   "cell_type": "code",
   "execution_count": 60,
   "id": "8c07de13",
   "metadata": {},
   "outputs": [
    {
     "data": {
      "text/html": [
       "<div>\n",
       "<style scoped>\n",
       "    .dataframe tbody tr th:only-of-type {\n",
       "        vertical-align: middle;\n",
       "    }\n",
       "\n",
       "    .dataframe tbody tr th {\n",
       "        vertical-align: top;\n",
       "    }\n",
       "\n",
       "    .dataframe thead th {\n",
       "        text-align: right;\n",
       "    }\n",
       "</style>\n",
       "<table border=\"1\" class=\"dataframe\">\n",
       "  <thead>\n",
       "    <tr style=\"text-align: right;\">\n",
       "      <th></th>\n",
       "      <th>Entity</th>\n",
       "      <th>Society</th>\n",
       "      <th>Semester</th>\n",
       "      <th>Faculty</th>\n",
       "      <th>President</th>\n",
       "      <th>Officer 1</th>\n",
       "      <th>Officer 2</th>\n",
       "      <th>Officer 3</th>\n",
       "      <th>Officer 4</th>\n",
       "      <th>Officer 5</th>\n",
       "    </tr>\n",
       "  </thead>\n",
       "  <tbody>\n",
       "    <tr>\n",
       "      <th>0</th>\n",
       "      <td>fas_spring2023</td>\n",
       "      <td>fas</td>\n",
       "      <td>spring2023</td>\n",
       "      <td>sabakanwal</td>\n",
       "      <td>aiman_azhar</td>\n",
       "      <td>abdulrehman</td>\n",
       "      <td>sabah_nawab</td>\n",
       "      <td>moiz_ahmed</td>\n",
       "      <td>mahnoor_mehmood</td>\n",
       "      <td>-</td>\n",
       "    </tr>\n",
       "    <tr>\n",
       "      <th>1</th>\n",
       "      <td>fas_fall2023</td>\n",
       "      <td>fas</td>\n",
       "      <td>fall2023</td>\n",
       "      <td>umairarshad</td>\n",
       "      <td>maheen_shoukat</td>\n",
       "      <td>aiman_azhar</td>\n",
       "      <td>abdulrehman</td>\n",
       "      <td>mahnoor_mehmood</td>\n",
       "      <td>moiz_ahmed</td>\n",
       "      <td>-</td>\n",
       "    </tr>\n",
       "    <tr>\n",
       "      <th>2</th>\n",
       "      <td>fais_fall2021</td>\n",
       "      <td>fais</td>\n",
       "      <td>fall2021</td>\n",
       "      <td>ayeshakamran</td>\n",
       "      <td>isaam_ansari</td>\n",
       "      <td>maheen_shoukat</td>\n",
       "      <td>aiman_azhar</td>\n",
       "      <td>moiz_ahmed</td>\n",
       "      <td>-</td>\n",
       "      <td>-</td>\n",
       "    </tr>\n",
       "    <tr>\n",
       "      <th>3</th>\n",
       "      <td>fais_spring2022</td>\n",
       "      <td>fais</td>\n",
       "      <td>spring2022</td>\n",
       "      <td>amnakamran</td>\n",
       "      <td>hammad_bakhtiar</td>\n",
       "      <td>sabah_nawab</td>\n",
       "      <td>maheen_shoukat</td>\n",
       "      <td>aiman_azhar</td>\n",
       "      <td>moiz_ahmed</td>\n",
       "      <td>-</td>\n",
       "    </tr>\n",
       "    <tr>\n",
       "      <th>4</th>\n",
       "      <td>fcss_fall2023</td>\n",
       "      <td>fcss</td>\n",
       "      <td>fall2023</td>\n",
       "      <td>umairarshad</td>\n",
       "      <td>talha_nadeem</td>\n",
       "      <td>hammad_bakhtiar</td>\n",
       "      <td>moiz_ahmed</td>\n",
       "      <td>talha_nadeem</td>\n",
       "      <td>-</td>\n",
       "      <td>-</td>\n",
       "    </tr>\n",
       "    <tr>\n",
       "      <th>5</th>\n",
       "      <td>fais_fall2023</td>\n",
       "      <td>fais</td>\n",
       "      <td>fall2023</td>\n",
       "      <td>hassanmujtaba</td>\n",
       "      <td>zarmeen_tauseef</td>\n",
       "      <td>hammad_bakhtiar</td>\n",
       "      <td>isaam_ansari</td>\n",
       "      <td>aiman_azhar</td>\n",
       "      <td>-</td>\n",
       "      <td>-</td>\n",
       "    </tr>\n",
       "    <tr>\n",
       "      <th>6</th>\n",
       "      <td>fas_fall2022</td>\n",
       "      <td>fas</td>\n",
       "      <td>fall2022</td>\n",
       "      <td>naveedahmed</td>\n",
       "      <td>moiz_ahmed</td>\n",
       "      <td>aiman_azhar</td>\n",
       "      <td>zarmeen_tauseef</td>\n",
       "      <td>-</td>\n",
       "      <td>-</td>\n",
       "      <td>-</td>\n",
       "    </tr>\n",
       "  </tbody>\n",
       "</table>\n",
       "</div>"
      ],
      "text/plain": [
       "            Entity Society    Semester        Faculty        President  \\\n",
       "0   fas_spring2023     fas  spring2023     sabakanwal      aiman_azhar   \n",
       "1     fas_fall2023     fas    fall2023    umairarshad   maheen_shoukat   \n",
       "2    fais_fall2021    fais    fall2021   ayeshakamran     isaam_ansari   \n",
       "3  fais_spring2022    fais  spring2022     amnakamran  hammad_bakhtiar   \n",
       "4    fcss_fall2023    fcss    fall2023    umairarshad     talha_nadeem   \n",
       "5    fais_fall2023    fais    fall2023  hassanmujtaba  zarmeen_tauseef   \n",
       "6     fas_fall2022     fas    fall2022    naveedahmed       moiz_ahmed   \n",
       "\n",
       "         Officer 1        Officer 2        Officer 3        Officer 4  \\\n",
       "0      abdulrehman      sabah_nawab       moiz_ahmed  mahnoor_mehmood   \n",
       "1      aiman_azhar      abdulrehman  mahnoor_mehmood       moiz_ahmed   \n",
       "2   maheen_shoukat      aiman_azhar       moiz_ahmed                -   \n",
       "3      sabah_nawab   maheen_shoukat      aiman_azhar       moiz_ahmed   \n",
       "4  hammad_bakhtiar       moiz_ahmed     talha_nadeem                -   \n",
       "5  hammad_bakhtiar     isaam_ansari      aiman_azhar                -   \n",
       "6      aiman_azhar  zarmeen_tauseef                -                -   \n",
       "\n",
       "  Officer 5  \n",
       "0         -  \n",
       "1         -  \n",
       "2         -  \n",
       "3         -  \n",
       "4         -  \n",
       "5         -  \n",
       "6         -  "
      ]
     },
     "execution_count": 60,
     "metadata": {},
     "output_type": "execute_result"
    }
   ],
   "source": [
    "soc_ten=pd.read_excel(r\"D:\\Fast NU\\5th semester (pro) shit\\KRR\\Project\\Phase-III\\Data\\Society Tenure.xlsx\")\n",
    "soc_ten"
   ]
  },
  {
   "cell_type": "code",
   "execution_count": 61,
   "id": "42a6d6cb",
   "metadata": {},
   "outputs": [],
   "source": [
    "for index, row in soc_ten.iterrows():\n",
    "    \n",
    "    ent = URIRef(resource + row['Entity'])\n",
    "    sc = URIRef('http://www.semanticweb.org/abdul/ontologies/2023/University#Society_Tenure')\n",
    "    g.add((ent, RDF.type, sc))\n",
    "    \n",
    "    g.add((ent, URIRef(main + 'society'), URIRef(resource + row['Society'])))\n",
    "    g.add((ent, URIRef(main + 'tenure_society'), URIRef(resource + row['Semester'])))\n",
    "    g.add((ent, URIRef(main + 'president'), URIRef(resource + row['President'])))\n",
    "    g.add((URIRef(resource + row['President']), URIRef(main + 'is_president_of'), ent))\n",
    "    \n",
    "    if row['Officer 1'] != '-':\n",
    "        g.add((ent, URIRef(main + 'officer'), URIRef(resource + row['Officer 1'])))\n",
    "        g.add((URIRef(resource + row['Officer 1']), URIRef(main + 'is_member_of'), ent))\n",
    "    if row['Officer 2'] != '-':\n",
    "        g.add((ent, URIRef(main + 'officer'), URIRef(resource + row['Officer 2'])))\n",
    "        g.add((URIRef(resource + row['Officer 2']), URIRef(main + 'is_member_of'), ent))\n",
    "    if row['Officer 3'] != '-':\n",
    "        g.add((ent, URIRef(main + 'officer'), URIRef(resource + row['Officer 3'])))\n",
    "        g.add((URIRef(resource + row['Officer 3']), URIRef(main + 'is_member_of'), ent))\n",
    "    if row['Officer 4'] != '-':\n",
    "        g.add((ent, URIRef(main + 'officer'), URIRef(resource + row['Officer 4'])))\n",
    "        g.add((URIRef(resource + row['Officer 4']), URIRef(main + 'is_member_of'), ent))\n",
    "    if row['Officer 5'] != '-':\n",
    "        g.add((ent, URIRef(main + 'officer'), URIRef(resource + row['Officer 5'])))\n",
    "        g.add((URIRef(resource + row['Officer 5']), URIRef(main + 'is_member_of'), ent))\n"
   ]
  },
  {
   "cell_type": "code",
   "execution_count": 62,
   "id": "a100ab2f",
   "metadata": {},
   "outputs": [
    {
     "data": {
      "text/plain": [
       "<Graph identifier=N23acca84aea343ae9535a47bf8057bba (<class 'rdflib.graph.Graph'>)>"
      ]
     },
     "execution_count": 62,
     "metadata": {},
     "output_type": "execute_result"
    }
   ],
   "source": [
    "g.serialize(destination=r'D:\\Fast NU\\5th semester (pro) shit\\KRR\\Project\\Phase-III\\Output Ontologies\\v19.rdf', format=\"xml\")"
   ]
  },
  {
   "cell_type": "code",
   "execution_count": null,
   "id": "cfac8dde",
   "metadata": {},
   "outputs": [],
   "source": []
  },
  {
   "cell_type": "code",
   "execution_count": 12,
   "id": "84e418ea",
   "metadata": {},
   "outputs": [
    {
     "data": {
      "text/plain": [
       "rdflib.term.URIRef('http://www.semanticweb.org/abdul/ontologies/2023/University/Resource/fast')"
      ]
     },
     "execution_count": 12,
     "metadata": {},
     "output_type": "execute_result"
    }
   ],
   "source": [
    "ent = URIRef(resource + university['Entity'][0])\n",
    "ent"
   ]
  },
  {
   "cell_type": "code",
   "execution_count": 14,
   "id": "3eb86406",
   "metadata": {},
   "outputs": [
    {
     "data": {
      "text/plain": [
       "<Graph identifier=Nc89b40ed08e74c338f9b2b5bc8f7d3d3 (<class 'rdflib.graph.Graph'>)>"
      ]
     },
     "execution_count": 14,
     "metadata": {},
     "output_type": "execute_result"
    }
   ],
   "source": [
    "g.add((ent, OWL.sameAs, URIRef('http://dbpedia.org/resource/National_University_of_Computer_and_Emerging_Sciences')))"
   ]
  },
  {
   "cell_type": "code",
   "execution_count": 17,
   "id": "c0b3a3e2",
   "metadata": {},
   "outputs": [
    {
     "data": {
      "text/plain": [
       "<Graph identifier=Nc89b40ed08e74c338f9b2b5bc8f7d3d3 (<class 'rdflib.graph.Graph'>)>"
      ]
     },
     "execution_count": 17,
     "metadata": {},
     "output_type": "execute_result"
    }
   ],
   "source": [
    "ent = URIRef(resource + university['Entity'][1])\n",
    "g.add((ent, OWL.sameAs, URIRef('https://www.wikidata.org/wiki/Q5013372')))"
   ]
  },
  {
   "cell_type": "code",
   "execution_count": 16,
   "id": "73fe0e5a",
   "metadata": {},
   "outputs": [
    {
     "data": {
      "text/plain": [
       "<Graph identifier=Nc89b40ed08e74c338f9b2b5bc8f7d3d3 (<class 'rdflib.graph.Graph'>)>"
      ]
     },
     "execution_count": 16,
     "metadata": {},
     "output_type": "execute_result"
    }
   ],
   "source": [
    "ent = URIRef(resource + university['Entity'][2])\n",
    "g.add((ent, OWL.sameAs, URIRef('http://dbpedia.org/resource/Ghulam_Ishaq_Khan_Institute_of_Engineering_Sciences_and_Technology')))"
   ]
  },
  {
   "cell_type": "code",
   "execution_count": 20,
   "id": "6b47522d",
   "metadata": {},
   "outputs": [
    {
     "data": {
      "text/plain": [
       "<Graph identifier=Nc89b40ed08e74c338f9b2b5bc8f7d3d3 (<class 'rdflib.graph.Graph'>)>"
      ]
     },
     "execution_count": 20,
     "metadata": {},
     "output_type": "execute_result"
    }
   ],
   "source": [
    "g.serialize(destination=r'D:\\Fast NU\\5th semester (pro) shit\\KRR\\Project\\Phase - IV\\Out\\final.rdf', format=\"xml\")"
   ]
  },
  {
   "cell_type": "code",
   "execution_count": null,
   "id": "31530645",
   "metadata": {},
   "outputs": [],
   "source": []
  }
 ],
 "metadata": {
  "kernelspec": {
   "display_name": "Python 3 (ipykernel)",
   "language": "python",
   "name": "python3"
  },
  "language_info": {
   "codemirror_mode": {
    "name": "ipython",
    "version": 3
   },
   "file_extension": ".py",
   "mimetype": "text/x-python",
   "name": "python",
   "nbconvert_exporter": "python",
   "pygments_lexer": "ipython3",
   "version": "3.9.12"
  }
 },
 "nbformat": 4,
 "nbformat_minor": 5
}

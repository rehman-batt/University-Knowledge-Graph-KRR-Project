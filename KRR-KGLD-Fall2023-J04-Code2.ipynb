{
 "cells": [
  {
   "cell_type": "markdown",
   "id": "5e8210df",
   "metadata": {},
   "source": [
    "# Check Consistency"
   ]
  },
  {
   "cell_type": "code",
   "execution_count": 1,
   "id": "d797551d",
   "metadata": {},
   "outputs": [],
   "source": [
    "from owlready2 import *\n",
    "import owlready2\n",
    "\n",
    "owlready2.JAVE_EXE=\"D:\\Program Files (x86)\\Java\\bin\\java.exe\"\n",
    "onto = get_ontology(r\"D:\\Fast NU\\5th semester (pro) shit\\KRR\\Project\\Phase-III\\University Ontology - I.rdf\").load()"
   ]
  },
  {
   "cell_type": "code",
   "execution_count": 2,
   "id": "201e2665",
   "metadata": {},
   "outputs": [
    {
     "name": "stderr",
     "output_type": "stream",
     "text": [
      "* Owlready2 * Running HermiT...\n",
      "    java -Xmx512m -cp C:\\Users\\abdul\\anaconda3\\lib\\site-packages\\owlready2\\hermit;C:\\Users\\abdul\\anaconda3\\lib\\site-packages\\owlready2\\hermit\\HermiT.jar org.semanticweb.HermiT.cli.CommandLine -c -O -D -I file:///C:/Users/abdul/AppData/Local/Temp/tmp5t1fvpho\n",
      "* Owlready2 * HermiT took 2.0894391536712646 seconds\n",
      "* Owlready * Reparenting D:\\Fast NU\\5th semester (pro) shit\\KRR\\Project\\Phase-III\\University Ontology - I.belongs_to_faculty: {D:\\Fast NU\\5th semester (pro) shit\\KRR\\Project\\Phase-III\\University Ontology - I.belongs_to, owl.ObjectProperty} => {D:\\Fast NU\\5th semester (pro) shit\\KRR\\Project\\Phase-III\\University Ontology - I.belongs_to}\n",
      "* Owlready * Reparenting D:\\Fast NU\\5th semester (pro) shit\\KRR\\Project\\Phase-III\\University Ontology - I.belongs_to_student: {D:\\Fast NU\\5th semester (pro) shit\\KRR\\Project\\Phase-III\\University Ontology - I.belongs_to, owl.ObjectProperty} => {D:\\Fast NU\\5th semester (pro) shit\\KRR\\Project\\Phase-III\\University Ontology - I.belongs_to}\n",
      "* Owlready * (NB: only changes on entities loaded in Python are shown, other changes are done but not listed)\n"
     ]
    }
   ],
   "source": [
    "sync_reasoner()\n",
    "    \n",
    "# onto.save(\"out.owl\")"
   ]
  },
  {
   "cell_type": "code",
   "execution_count": 3,
   "id": "a98483ef",
   "metadata": {},
   "outputs": [],
   "source": [
    "onto.save(\"out.owl\")"
   ]
  },
  {
   "cell_type": "code",
   "execution_count": null,
   "id": "fcd9b1b0",
   "metadata": {},
   "outputs": [],
   "source": []
  }
 ],
 "metadata": {
  "kernelspec": {
   "display_name": "Python 3 (ipykernel)",
   "language": "python",
   "name": "python3"
  },
  "language_info": {
   "codemirror_mode": {
    "name": "ipython",
    "version": 3
   },
   "file_extension": ".py",
   "mimetype": "text/x-python",
   "name": "python",
   "nbconvert_exporter": "python",
   "pygments_lexer": "ipython3",
   "version": "3.9.12"
  }
 },
 "nbformat": 4,
 "nbformat_minor": 5
}
